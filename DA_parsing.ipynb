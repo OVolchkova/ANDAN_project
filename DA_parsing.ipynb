{
  "cells": [
    {
      "cell_type": "markdown",
      "metadata": {},
      "source": [
        "# Шаг 1. Парсинг данных"
      ]
    },
    {
      "cell_type": "markdown",
      "metadata": {},
      "source": [
        "### Парсинг данных индексов IMOEX, MOEXMM ###"
      ]
    },
    {
      "cell_type": "markdown",
      "metadata": {
        "id": "_-RKdv_hOz2w"
      },
      "source": [
        "Код основан на MOEX API с использованием https://iss.moex.com/iss/reference/"
      ]
    },
    {
      "cell_type": "code",
      "execution_count": 1,
      "metadata": {},
      "outputs": [],
      "source": [
        "# импорт библиотек для парсинга\n",
        "import requests\n",
        "import pandas as pd\n",
        "from bs4 import BeautifulSoup\n",
        "import warnings\n",
        "\n",
        "warnings.filterwarnings(\"ignore\")"
      ]
    },
    {
      "cell_type": "code",
      "execution_count": 2,
      "metadata": {},
      "outputs": [],
      "source": [
        "# устанавливаем дату, с которой начнем собирать данные и которой закончим для данных MOEX\n",
        "\n",
        "start_date = '2013-09-01'\n",
        "end_date = '2025-01-01'"
      ]
    },
    {
      "cell_type": "code",
      "execution_count": 3,
      "metadata": {},
      "outputs": [
        {
          "name": "stdout",
          "output_type": "stream",
          "text": [
            "  BOARDID  SECID   TRADEDATE        SHORTNAME             NAME    CLOSE  \\\n",
            "0    SNDX  IMOEX  2013-09-02  Индекс МосБиржи  Индекс МосБиржи  1367.53   \n",
            "1    SNDX  IMOEX  2013-09-03  Индекс МосБиржи  Индекс МосБиржи  1373.82   \n",
            "2    SNDX  IMOEX  2013-09-04  Индекс МосБиржи  Индекс МосБиржи  1375.66   \n",
            "3    SNDX  IMOEX  2013-09-05  Индекс МосБиржи  Индекс МосБиржи  1422.40   \n",
            "4    SNDX  IMOEX  2013-09-06  Индекс МосБиржи  Индекс МосБиржи  1423.40   \n",
            "5    SNDX  IMOEX  2013-09-09  Индекс МосБиржи  Индекс МосБиржи  1451.54   \n",
            "6    SNDX  IMOEX  2013-09-10  Индекс МосБиржи  Индекс МосБиржи  1453.57   \n",
            "7    SNDX  IMOEX  2013-09-11  Индекс МосБиржи  Индекс МосБиржи  1454.12   \n",
            "8    SNDX  IMOEX  2013-09-12  Индекс МосБиржи  Индекс МосБиржи  1450.23   \n",
            "9    SNDX  IMOEX  2013-09-13  Индекс МосБиржи  Индекс МосБиржи  1440.74   \n",
            "\n",
            "      OPEN     HIGH      LOW         VALUE  DURATION  YIELD  DECIMALS  \\\n",
            "0  1364.75  1373.73  1364.27  1.274407e+10       NaN    NaN         2   \n",
            "1  1366.99  1384.18  1366.99  2.216425e+10       NaN    NaN         2   \n",
            "2  1372.98  1376.42  1365.21  1.692969e+10       NaN    NaN         2   \n",
            "3  1375.66  1422.40  1373.29  3.763559e+10       NaN    NaN         2   \n",
            "4  1421.86  1448.75  1418.80  5.218912e+10       NaN    NaN         2   \n",
            "5  1423.40  1455.28  1421.45  4.579322e+10       NaN    NaN         2   \n",
            "6  1451.54  1464.20  1446.97  4.892904e+10       NaN    NaN         2   \n",
            "7  1452.52  1459.68  1449.58  3.068467e+10       NaN    NaN         2   \n",
            "8  1454.21  1461.20  1441.58  3.273912e+10       NaN    NaN         2   \n",
            "9  1450.66  1451.89  1434.74  2.469273e+10       NaN    NaN         2   \n",
            "\n",
            "   CAPITALIZATION CURRENCYID  DIVISOR TRADINGSESSION VOLUME  \n",
            "0    6.096417e+12        RUB      NaN              3   None  \n",
            "1    6.124461e+12        RUB      NaN              3   None  \n",
            "2    6.132675e+12        RUB      NaN              3   None  \n",
            "3    6.341025e+12        RUB      NaN              3   None  \n",
            "4    6.345500e+12        RUB      NaN              3   None  \n",
            "5    6.470954e+12        RUB      NaN              3   None  \n",
            "6    6.480001e+12        RUB      NaN              3   None  \n",
            "7    6.482454e+12        RUB      NaN              3   None  \n",
            "8    6.465093e+12        RUB      NaN              3   None  \n",
            "9    6.422781e+12        RUB      NaN              3   None  \n"
          ]
        }
      ],
      "source": [
        "# для индекса IMOEX\n",
        "\n",
        "def get_imoex(start_date, end_date, page_size=100):\n",
        "    \n",
        "    '''Функция зависит от переменных: start_date - дата начала сбора данных, end_date - дата окончания сбора данных,\n",
        "    page_size - количество данных на одной странице, равное 100. Внутри функции создается список imoex_data с хранением информации, счетчик\n",
        "    count отсчитывает данные, находящиеся на одной странице и служит индикатором перехода на другую. '''\n",
        "\n",
        "    imoex_data = []\n",
        "    count = 0\n",
        "    while True:\n",
        "        # используя MOEX ISS получаем url сайта\n",
        "        url = f'https://iss.moex.com/iss/history/engines/stock/markets/index/securities/IMOEX.json?from={start_date}&till={end_date}&start={count}&limit={page_size}'\n",
        "        try:\n",
        "            response = requests.get(url)  # получаем доступ к сайту\n",
        "            data = response.json()  # получаем данные из API и переводим из JSON в python формат\n",
        "            history_data = data['history']['data']\n",
        "            headings = data['history']['columns']\n",
        "            if history_data != None:\n",
        "                imoex_data.extend(history_data)\n",
        "                count += len(\n",
        "                    history_data)  # увеличиваем счётчик, для того чтобы на следующей странице начать с этого номера\n",
        "        except:\n",
        "            return pd.DataFrame(imoex_data, columns=headings)  # если данные закончились возвращаем imoex_data\n",
        "\n",
        "        if len(history_data) < page_size:  # останавливаем бесконечный цикл\n",
        "            break\n",
        "    return pd.DataFrame(imoex_data, columns=headings)\n",
        "\n",
        "\n",
        "page_size = 100\n",
        "IMOEX_df = get_imoex(start_date, end_date, page_size=page_size)\n",
        "print(IMOEX_df.head(10))"
      ]
    },
    {
      "cell_type": "markdown",
      "metadata": {},
      "source": [
        "Эту же функцию реализуем для индекса металлов и добычи - MOEXMM"
      ]
    },
    {
      "cell_type": "code",
      "execution_count": 4,
      "metadata": {},
      "outputs": [
        {
          "name": "stdout",
          "output_type": "stream",
          "text": [
            "  BOARDID   SECID   TRADEDATE                 SHORTNAME  \\\n",
            "0    SNDX  MOEXMM  2013-09-02  Индекс металлов и добычи   \n",
            "1    SNDX  MOEXMM  2013-09-03  Индекс металлов и добычи   \n",
            "2    SNDX  MOEXMM  2013-09-04  Индекс металлов и добычи   \n",
            "3    SNDX  MOEXMM  2013-09-05  Индекс металлов и добычи   \n",
            "4    SNDX  MOEXMM  2013-09-06  Индекс металлов и добычи   \n",
            "5    SNDX  MOEXMM  2013-09-09  Индекс металлов и добычи   \n",
            "6    SNDX  MOEXMM  2013-09-10  Индекс металлов и добычи   \n",
            "7    SNDX  MOEXMM  2013-09-11  Индекс металлов и добычи   \n",
            "8    SNDX  MOEXMM  2013-09-12  Индекс металлов и добычи   \n",
            "9    SNDX  MOEXMM  2013-09-13  Индекс металлов и добычи   \n",
            "\n",
            "                                NAME    CLOSE     OPEN     HIGH      LOW  \\\n",
            "0  Индекс МосБиржи металлов и добычи  2109.53  2103.86  2120.72  2100.19   \n",
            "1  Индекс МосБиржи металлов и добычи  2102.51  2109.79  2123.56  2089.09   \n",
            "2  Индекс МосБиржи металлов и добычи  2109.74  2101.98  2112.03  2088.95   \n",
            "3  Индекс МосБиржи металлов и добычи  2161.35  2110.70  2162.06  2104.88   \n",
            "4  Индекс МосБиржи металлов и добычи  2157.45  2159.63  2199.92  2154.78   \n",
            "5  Индекс МосБиржи металлов и добычи  2191.94  2164.13  2199.41  2164.13   \n",
            "6  Индекс МосБиржи металлов и добычи  2234.30  2195.60  2238.43  2195.60   \n",
            "7  Индекс МосБиржи металлов и добычи  2205.88  2234.30  2238.07  2204.98   \n",
            "8  Индекс МосБиржи металлов и добычи  2208.34  2209.81  2225.06  2193.81   \n",
            "9  Индекс МосБиржи металлов и добычи  2179.43  2205.76  2205.76  2170.27   \n",
            "\n",
            "          VALUE  DURATION  YIELD  DECIMALS  CAPITALIZATION CURRENCYID  \\\n",
            "0  8.886807e+08       NaN    NaN         2    2.345484e+11        RUB   \n",
            "1  1.304529e+09       NaN    NaN         2    2.337673e+11        RUB   \n",
            "2  1.283077e+09       NaN    NaN         2    2.345715e+11        RUB   \n",
            "3  2.779851e+09       NaN    NaN         2    2.403100e+11        RUB   \n",
            "4  3.672785e+09       NaN    NaN         2    2.398759e+11        RUB   \n",
            "5  3.046784e+09       NaN    NaN         2    2.437106e+11        RUB   \n",
            "6  3.415190e+09       NaN    NaN         2    2.484205e+11        RUB   \n",
            "7  2.719825e+09       NaN    NaN         2    2.452612e+11        RUB   \n",
            "8  3.406006e+09       NaN    NaN         2    2.455348e+11        RUB   \n",
            "9  1.961664e+09       NaN    NaN         2    2.423205e+11        RUB   \n",
            "\n",
            "   DIVISOR TRADINGSESSION VOLUME  \n",
            "0      NaN              3   None  \n",
            "1      NaN              3   None  \n",
            "2      NaN              3   None  \n",
            "3      NaN              3   None  \n",
            "4      NaN              3   None  \n",
            "5      NaN              3   None  \n",
            "6      NaN              3   None  \n",
            "7      NaN              3   None  \n",
            "8      NaN              3   None  \n",
            "9      NaN              3   None  \n"
          ]
        },
        {
          "data": {
            "text/plain": [
              "(2842, 18)"
            ]
          },
          "execution_count": 4,
          "metadata": {},
          "output_type": "execute_result"
        }
      ],
      "source": [
        "# для индекса MOEXMM\n",
        "\n",
        "def get_moexmm(start_date, end_date, page_size=100):\n",
        "    moexmm_data = []\n",
        "    count = 0\n",
        "    while True:\n",
        "        url = f'https://iss.moex.com/iss/history/engines/stock/markets/index/securities/MOEXMM.json?from={start_date}&till={end_date}&start={count}&limit={page_size}'\n",
        "        try:\n",
        "            response = requests.get(url)\n",
        "            data = response.json()\n",
        "            history_data = data['history']['data']\n",
        "            headings = data['history']['columns']\n",
        "            if history_data != None:\n",
        "                moexmm_data.extend(history_data)\n",
        "                count += len(history_data)\n",
        "        except:\n",
        "            return pd.DataFrame(moexmm_data, columns=headings)\n",
        "\n",
        "        if len(history_data) < page_size:\n",
        "            break\n",
        "    return pd.DataFrame(moexmm_data, columns=headings)\n",
        "\n",
        "\n",
        "page_size = 100\n",
        "MOEXMM_df = get_moexmm(start_date, end_date, page_size=page_size)\n",
        "print(MOEXMM_df.head(10))\n",
        "MOEXMM_df.shape"
      ]
    },
    {
      "cell_type": "markdown",
      "metadata": {},
      "source": [
        "## Парсинг данных с сайта ЦБ"
      ]
    },
    {
      "cell_type": "markdown",
      "metadata": {},
      "source": [
        "Сайт данных ЦБ динамический, поэтому просто использовать html парсинг в случае ежеджевнообновляемых данных не получилось. Однако у ЦБ есть XML: https://cbr.ru/development/SXML/. В случае парсинга валютной пары USDRUB использовался 'Example 2', для золота был использован 'Example 4'"
      ]
    },
    {
      "cell_type": "markdown",
      "metadata": {},
      "source": [
        "### Парсинг данных инфляции из данных ЦБ ###"
      ]
    },
    {
      "cell_type": "code",
      "execution_count": 5,
      "metadata": {},
      "outputs": [],
      "source": [
        "# MOEX и ЦБ обладают разными форматами даты, поэтому установим те же даты, только в формате требуемом сайтом ЦБ\n",
        "\n",
        "# устанавливаем дату, с которой начнем собирать данные и которой закончим для данных MOEX\n",
        "\n",
        "start_date = '01.09.2013'\n",
        "end_date = '01.01.2025'"
      ]
    },
    {
      "cell_type": "code",
      "execution_count": 6,
      "metadata": {},
      "outputs": [
        {
          "name": "stdout",
          "output_type": "stream",
          "text": [
            "<Response [200]>\n"
          ]
        }
      ],
      "source": [
        "# проверим есть ли доступ к сайту\n",
        "url = f'https://cbr.ru/hd_base/infl/?UniDbQuery.Posted=True&UniDbQuery.From={start_date}&UniDbQuery.To={end_date}'\n",
        "response = requests.get(url)\n",
        "print(response)"
      ]
    },
    {
      "cell_type": "code",
      "execution_count": 7,
      "metadata": {},
      "outputs": [
        {
          "name": "stdout",
          "output_type": "stream",
          "text": [
            "        Date Key_rate Inflation Inflation_goal\n",
            "0 2024-12-01    21,00      9,52           4,00\n",
            "1 2024-11-01    21,00      8,88           4,00\n",
            "2 2024-10-01    21,00      8,54           4,00\n",
            "3 2024-09-01    19,00      8,63           4,00\n",
            "4 2024-08-01    18,00      9,05           4,00\n",
            "5 2024-07-01    18,00      9,13           4,00\n",
            "6 2024-06-01    16,00      8,59           4,00\n",
            "7 2024-05-01    16,00      8,30           4,00\n",
            "8 2024-04-01    16,00      7,84           4,00\n",
            "9 2024-03-01    16,00      7,72           4,00\n"
          ]
        },
        {
          "data": {
            "text/plain": [
              "(136, 4)"
            ]
          },
          "execution_count": 7,
          "metadata": {},
          "output_type": "execute_result"
        }
      ],
      "source": [
        "def get_inflation(start_date, end_date):\n",
        "    try:\n",
        "        url = f'https://cbr.ru/hd_base/infl/?UniDbQuery.Posted=True&UniDbQuery.From={start_date}&UniDbQuery.To={end_date}'\n",
        "        response = requests.get(url)\n",
        "        tree = BeautifulSoup(response.text, 'html.parser')\n",
        "        table = tree.find('table', {\n",
        "            'class': 'data'})  # в коде элемента находим, что таблица хранится в теге table, классе - data\n",
        "\n",
        "        data = []\n",
        "        for row in table.find_all('tr')[1:]:\n",
        "            cells = row.find_all('td')\n",
        "            date_str = cells[0].text.strip()\n",
        "            date = pd.to_datetime(date_str, format='%m.%Y')\n",
        "            Key_rate = cells[1].text.strip()\n",
        "            Inflation = cells[2].text.strip()\n",
        "            Inflation_goal = cells[3].text.strip()\n",
        "            data.append([date, Key_rate, Inflation, Inflation_goal])\n",
        "        df = pd.DataFrame(data, columns=['Date', 'Key_rate', 'Inflation', 'Inflation_goal'])\n",
        "        return df\n",
        "\n",
        "    except Exception as e:\n",
        "        return f\"Ошибка: {e}\"\n",
        "\n",
        "\n",
        "INFLATION_df = get_inflation(start_date, end_date)\n",
        "print(INFLATION_df.head(10).to_string())\n",
        "INFLATION_df.shape\n"
      ]
    },
    {
      "cell_type": "markdown",
      "metadata": {},
      "source": [
        "### Парсинг валютного курса USD RUB из данных ЦБ"
      ]
    },
    {
      "cell_type": "code",
      "execution_count": 8,
      "metadata": {},
      "outputs": [
        {
          "name": "stdout",
          "output_type": "stream",
          "text": [
            "<Response [200]>\n"
          ]
        }
      ],
      "source": [
        "# проверили есть ли доступ к сайту\n",
        "url = f'http://www.cbr.ru/scripts/XML_dynamic.asp?date_req1={start_date}&date_req2={end_date}&VAL_NM_RQ=R01235'\n",
        "response = requests.get(url)\n",
        "print(response)"
      ]
    },
    {
      "cell_type": "code",
      "execution_count": 9,
      "metadata": {},
      "outputs": [
        {
          "name": "stdout",
          "output_type": "stream",
          "text": [
            "         Date  USD_RUB\n",
            "0  03.09.2013  33.2522\n",
            "1  04.09.2013  33.3693\n",
            "2  05.09.2013  33.4656\n",
            "3  06.09.2013  33.3901\n",
            "4  07.09.2013  33.4338\n",
            "5  10.09.2013  33.3243\n",
            "6  11.09.2013  33.0600\n",
            "7  12.09.2013  32.9629\n",
            "8  13.09.2013  32.6731\n",
            "9  14.09.2013  32.7406\n",
            "(2800, 2)\n"
          ]
        }
      ],
      "source": [
        "def get_USDRUB(start_date, end_date):\n",
        "    try:\n",
        "        url = f'http://www.cbr.ru/scripts/XML_dynamic.asp?date_req1={start_date}&date_req2={end_date}&VAL_NM_RQ=R01235'\n",
        "        response = requests.get(url)\n",
        "        soup = BeautifulSoup(response.text, 'xml')\n",
        "        records = soup.find_all('Record')\n",
        "\n",
        "        data = []\n",
        "        for record in records:\n",
        "            i_date = record.get('Date')\n",
        "            VunitRate = record.find('Value').text.replace(',', '.')\n",
        "\n",
        "            data.append([i_date, float(VunitRate)])\n",
        "\n",
        "        df = pd.DataFrame(data, columns=['Date', 'USD_RUB'])\n",
        "        return df\n",
        "\n",
        "    except Exception as e:\n",
        "        return f'Ошибка: \\n{e}'\n",
        "\n",
        "\n",
        "start_date = '01/09/2013'  # здесь потребовался другой формат даты\n",
        "end_date = '01/01/2025'\n",
        "USDRUB_df = get_USDRUB(start_date, end_date)\n",
        "\n",
        "print(USDRUB_df.head(10).to_string())\n",
        "print(USDRUB_df.shape)"
      ]
    },
    {
      "cell_type": "markdown",
      "metadata": {},
      "source": [
        "### Парсинг цен на аффинированные драгоценные металлы из данных Банка России ###"
      ]
    },
    {
      "cell_type": "code",
      "execution_count": 10,
      "metadata": {},
      "outputs": [
        {
          "name": "stdout",
          "output_type": "stream",
          "text": [
            "<Response [200]>\n"
          ]
        }
      ],
      "source": [
        "# проверили есть ли доступ к сайту\n",
        "url = f'http://www.cbr.ru/scripts/xml_metall.asp?date_req1={start_date}1&date_req2={end_date}'\n",
        "response = requests.get(url)\n",
        "print(response)"
      ]
    },
    {
      "cell_type": "code",
      "execution_count": 11,
      "metadata": {},
      "outputs": [
        {
          "name": "stdout",
          "output_type": "stream",
          "text": [
            "         Date Price_GOLD\n",
            "0  03.09.2013    1487,36\n",
            "1  04.09.2013     1492,6\n",
            "2  05.09.2013    1510,36\n",
            "3  06.09.2013    1494,07\n",
            "4  07.09.2013    1470,76\n",
            "5  10.09.2013    1484,96\n",
            "6  11.09.2013    1459,37\n",
            "7  12.09.2013    1446,87\n",
            "8  13.09.2013    1407,88\n",
            "9  14.09.2013    1377,11\n"
          ]
        },
        {
          "data": {
            "text/plain": [
              "(2800, 2)"
            ]
          },
          "execution_count": 11,
          "metadata": {},
          "output_type": "execute_result"
        }
      ],
      "source": [
        "def get_gold(url):\n",
        "    try:\n",
        "        url = f'http://www.cbr.ru/scripts/xml_metall.asp?date_req1={start_date}1&date_req2={end_date}'\n",
        "        response = requests.get(url)\n",
        "        tree = BeautifulSoup(response.text, 'html.parser')\n",
        "\n",
        "        data = []\n",
        "        for i in tree.find('metall').find_all('record', code='1'):  # ищем элемент <metall>, а затем все элементы record\n",
        "            i_date = i.get('date')\n",
        "            buy_price = i.find('buy').text\n",
        "\n",
        "            data.append([i_date, buy_price])\n",
        "\n",
        "        df = pd.DataFrame(data, columns=['Date', 'Price_GOLD'])\n",
        "        return df\n",
        "\n",
        "    except Exception as e:\n",
        "        return f'Ошибка \\n{e}'\n",
        "\n",
        "\n",
        "GOLD_df = get_gold(url)\n",
        "print(GOLD_df.head(10).to_string())\n",
        "GOLD_df.shape"
      ]
    },
    {
      "cell_type": "markdown",
      "metadata": {},
      "source": [
        "### Переводим датафреймы в формат CSV"
      ]
    },
    {
      "cell_type": "code",
      "execution_count": 12,
      "metadata": {},
      "outputs": [],
      "source": [
        "GOLD_df.to_csv('GOLD_df', index=False)\n",
        "USDRUB_df.to_csv('USDRUB_df', index=False)\n",
        "INFLATION_df.to_csv('INFLATION_df', index=False)\n",
        "IMOEX_df.to_csv('IMOEX_df', index=False)\n",
        "MOEXMM_df.to_csv('MOEXMM_df', index=False)"
      ]
    }
  ],
  "metadata": {
    "colab": {
      "provenance": []
    },
    "kernelspec": {
      "display_name": "Python 3",
      "language": "python",
      "name": "python3"
    },
    "language_info": {
      "codemirror_mode": {
        "name": "ipython",
        "version": 3
      },
      "file_extension": ".py",
      "mimetype": "text/x-python",
      "name": "python",
      "nbconvert_exporter": "python",
      "pygments_lexer": "ipython3",
      "version": "3.12.9"
    }
  },
  "nbformat": 4,
  "nbformat_minor": 0
}
