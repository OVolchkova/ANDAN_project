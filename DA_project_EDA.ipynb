{
  "cells": [
    {
      "cell_type": "markdown",
      "metadata": {
        "id": "_-RKdv_hOz2w"
      },
      "source": [
        "## Шаг 2. Предобработка данных"
      ]
    },
    {
      "cell_type": "code",
      "execution_count": 1,
      "metadata": {},
      "outputs": [],
      "source": [
        "import pandas as pd\n",
        "import numpy as np\n",
        "import matplotlib.pyplot as plt\n",
        "import seaborn as sns\n",
        "from functools import reduce\n",
        "from sklearn.impute import SimpleImputer\n",
        "\n",
        "import warnings\n",
        "warnings.filterwarnings(\"ignore\")"
      ]
    },
    {
      "cell_type": "markdown",
      "metadata": {},
      "source": [
        "В дата фреймах MOEX есть ненужные колонки где мало данных, их необходимо исключить. В дата фреймах ЦБ числовые значения из за формата ##,## нельзя перевести в float, поэтому для каждого датафрейма исключим эти проблемы."
      ]
    },
    {
      "cell_type": "markdown",
      "metadata": {},
      "source": [
        "### Импортируем получившиеся датафреймы"
      ]
    },
    {
      "cell_type": "code",
      "execution_count": 2,
      "metadata": {},
      "outputs": [],
      "source": [
        "IMOEX_df = pd.read_csv('IMOEX_df')\n",
        "MOEXMM_df = pd.read_csv('MOEXMM_df')\n",
        "MOEXOG_df = pd.read_csv('MOEXOG_df')\n",
        "GOLD_df = pd.read_csv('GOLD_df')\n",
        "USDRUB_df = pd.read_csv('USDRUB_df')\n",
        "INFLATION_df = pd.read_csv('INFLATION_df')"
      ]
    },
    {
      "cell_type": "markdown",
      "metadata": {},
      "source": [
        "### Обработка датафрейма IMOEX"
      ]
    },
    {
      "cell_type": "code",
      "execution_count": 3,
      "metadata": {},
      "outputs": [
        {
          "name": "stdout",
          "output_type": "stream",
          "text": [
            "  BOARDID  SECID   TRADEDATE        SHORTNAME             NAME    CLOSE  \\\n",
            "0    SNDX  IMOEX  2013-09-02  Индекс МосБиржи  Индекс МосБиржи  1367.53   \n",
            "1    SNDX  IMOEX  2013-09-03  Индекс МосБиржи  Индекс МосБиржи  1373.82   \n",
            "2    SNDX  IMOEX  2013-09-04  Индекс МосБиржи  Индекс МосБиржи  1375.66   \n",
            "3    SNDX  IMOEX  2013-09-05  Индекс МосБиржи  Индекс МосБиржи  1422.40   \n",
            "4    SNDX  IMOEX  2013-09-06  Индекс МосБиржи  Индекс МосБиржи  1423.40   \n",
            "\n",
            "      OPEN     HIGH      LOW         VALUE  DURATION  YIELD  DECIMALS  \\\n",
            "0  1364.75  1373.73  1364.27  1.274407e+10       NaN    NaN         2   \n",
            "1  1366.99  1384.18  1366.99  2.216425e+10       NaN    NaN         2   \n",
            "2  1372.98  1376.42  1365.21  1.692969e+10       NaN    NaN         2   \n",
            "3  1375.66  1422.40  1373.29  3.763559e+10       NaN    NaN         2   \n",
            "4  1421.86  1448.75  1418.80  5.218912e+10       NaN    NaN         2   \n",
            "\n",
            "   CAPITALIZATION CURRENCYID  DIVISOR  TRADINGSESSION  VOLUME  \n",
            "0    6.096417e+12        RUB      NaN               3     NaN  \n",
            "1    6.124461e+12        RUB      NaN               3     NaN  \n",
            "2    6.132675e+12        RUB      NaN               3     NaN  \n",
            "3    6.341025e+12        RUB      NaN               3     NaN  \n",
            "4    6.345500e+12        RUB      NaN               3     NaN  \n"
          ]
        }
      ],
      "source": [
        "print(IMOEX_df.head())"
      ]
    },
    {
      "cell_type": "markdown",
      "metadata": {},
      "source": [
        "Посмотрим количество пропусков в каждом столбце"
      ]
    },
    {
      "cell_type": "code",
      "execution_count": 4,
      "metadata": {},
      "outputs": [
        {
          "data": {
            "text/plain": [
              "BOARDID              0\n",
              "SECID                0\n",
              "TRADEDATE            0\n",
              "SHORTNAME            0\n",
              "NAME                 0\n",
              "CLOSE                0\n",
              "OPEN                 0\n",
              "HIGH                 0\n",
              "LOW                  0\n",
              "VALUE                0\n",
              "DURATION          1065\n",
              "YIELD             1065\n",
              "DECIMALS             0\n",
              "CAPITALIZATION       0\n",
              "CURRENCYID           0\n",
              "DIVISOR             80\n",
              "TRADINGSESSION       0\n",
              "VOLUME            2845\n",
              "dtype: int64"
            ]
          },
          "execution_count": 4,
          "metadata": {},
          "output_type": "execute_result"
        }
      ],
      "source": [
        "IMOEX_df.isnull().sum()"
      ]
    },
    {
      "cell_type": "code",
      "execution_count": 5,
      "metadata": {},
      "outputs": [
        {
          "name": "stdout",
          "output_type": "stream",
          "text": [
            "[nan  0.]\n",
            "[nan  0.]\n",
            "[           nan 4.51876015e+09 4.51289187e+09 4.50866224e+09\n",
            " 4.76294583e+09 4.63550338e+09 4.69729697e+09 4.68588832e+09\n",
            " 4.66370056e+09 4.63258322e+09 4.68972910e+09 4.69700973e+09\n",
            " 4.60042769e+09 4.72701074e+09 4.68707420e+09 4.78260596e+09\n",
            " 4.63467912e+09 4.59665934e+09 4.59665934e+09 4.40892573e+09\n",
            " 4.31169756e+09 4.31523349e+09 4.27786628e+09 4.26282623e+09\n",
            " 4.14158796e+09 3.94901864e+09 3.70878002e+09 3.92779150e+09\n",
            " 3.87151407e+09 4.04285118e+09 4.25783933e+09 4.80970779e+09\n",
            " 4.80970779e+09 5.07923087e+09 5.07733607e+09 5.10549752e+09\n",
            " 5.02319112e+09 4.94484716e+09 4.78149429e+09 4.77784852e+09\n",
            " 4.93014674e+09 4.87287880e+09 3.41631366e+09 1.69197187e+09\n",
            " 1.74596130e+09 1.77104960e+09 1.76843274e+09 1.76431300e+09\n",
            " 1.84096879e+09 1.98085495e+09 1.97520662e+09 1.95111325e+09\n",
            " 1.93733002e+09 2.16270349e+09]\n"
          ]
        }
      ],
      "source": [
        "print(IMOEX_df['DURATION'].unique())\n",
        "print(IMOEX_df['YIELD'].unique())\n",
        "print(IMOEX_df['DIVISOR'].unique())"
      ]
    },
    {
      "cell_type": "markdown",
      "metadata": {},
      "source": [
        "<a href=\"https://ibb.co/ZRhMkZdt\"><img src=\"https://i.ibb.co/bjrK8f1q/IMOEX-fin.jpg\" alt=\"IMOEX-fin\" border=\"0\"></a>"
      ]
    },
    {
      "cell_type": "markdown",
      "metadata": {},
      "source": [
        "* Признаки в DURATION и YIELD в 1065 случаях заполнены \"NaN\", в оставшихся - заполнены нулями.\n",
        "\n",
        "* Признак DIVISOR - в 80 случаях заполнен \"NaN\". Однако его значение учитывается в расчете самого индекса, поэтому значения делителя для анализа не имеют значения."
      ]
    },
    {
      "cell_type": "markdown",
      "metadata": {},
      "source": [
        "#### Описания признаков до исключения"
      ]
    },
    {
      "cell_type": "markdown",
      "metadata": {},
      "source": [
        "Для каждого из датафреймов индексов московской биржи названия столбцов совпадают, поэтому здесь я опишу каждый из столбцов до исключения каких-либо из них"
      ]
    },
    {
      "cell_type": "markdown",
      "metadata": {},
      "source": [
        "* **BOARDID** - идентификатор торговой площадки и режима торгов, в данном случае торговая площадка для всех данных индекса - Московская биржа, режим торгов - SNDX - то есть индекс. Этот показатель не нужен для анализа, потому что совпадает на всех данных.\n",
        "\n",
        "* **SECID** - уникальный идентификатор инструмента, присваиваемый биржей. В данном случае это название индекса - IMOEX, аналогично у других индексов. Нам он также не нужен для анализа, потому что совпадает для конкретного датасета у всех данных\n",
        "\n",
        "* **TRADEDATE** - дата, на которую были получены данные. Этот столбец необходим, чтобы в дальнейшем объединить данные в один дата фрейм\n",
        "\n",
        "* **SHORTNAME** - краткое название инструмента, в случае индексов, как правило совпадает с NAME, поэтому этот столбец не нужен\n",
        "\n",
        "* **NAME** - полное название инструмента. Однако название инструмента выгодно поместить в заголовки тех столбцов, которые не будут удалены, чтобы обращаться к этим столбцам заранее понимая к какому индексу они относятся, поэтому мы удалим этот столбец, а имя инструмента внесем в название нужных нам столбцов\n",
        "\n",
        "* **CLOSE** - цена закрытия - применимый к анализу столбец\n",
        "\n",
        "* **OPEN** - цена открытия - применимый к анализу столбец\n",
        "\n",
        "* **HIGH** - максимальная цена за время торгов - применимый к анализу столбец\n",
        "\n",
        "* **LOW**  - минимальная цена за время торгов - применимый к анализу столбец\n",
        "\n",
        "* **VALUE** - объем торгов - применимый к анализу столбец\n",
        "\n",
        "* **DURATION** - в данном случае не нужен для анализа, так как термин дюрация применяется как правило к облигациям, и соответственно к облигационным индексам (RGBI), в индексах акций она не нужна.\n",
        "\n",
        "* **YIELD** - аналогично с дюрацией - не применимый к индексу показатель (под yield имеется в виду купонная или дивидендная доходность, однако в данном случае к индексу они не применимы)\n",
        "\n",
        "* **DECIMALS** - количество знаков после запятой при отображении цены инструмента. Этот столбец будет исключен\n",
        "\n",
        "* **CAPITALIZATION** - оценивается по расчётному весу бумаг в итоговом значении индекса, применимый к анализу столбец\n",
        "\n",
        "* **CURRENCYID** - валюта, в которой отображается индекс. Все индексы из всех датафреймов - российские и измеряются в рублях, поэтому этот столбец будет удален\n",
        "\n",
        "* **DIVISOR** - это число, выбранное при создании индекса фондового рынка, взвешенного по цене, которое применяется к индексу для создания более удобного для восприятия значения индекса. \n",
        "\n",
        "* **TRADINGSESSION**  - акции, входящие в индекс Мосбиржи торгуются в вечернуюю сессию (то есть = 3), поэтому во всем фрейме значение столбца будет = 3. Этот столбец исключим\n",
        "\n",
        "* **VOLUME** - значение, полностью заполненное \"NaN\", поэтому столбец будет исключен"
      ]
    },
    {
      "cell_type": "code",
      "execution_count": 6,
      "metadata": {},
      "outputs": [
        {
          "name": "stdout",
          "output_type": "stream",
          "text": [
            "    TRADEDATE  CLOSE_IMOEX  OPEN_IMOEX  HIGH_IMOEX  LOW_IMOEX   VALUE_IMOEX  CAPITALIZATION_IMOEX\n",
            "0  2013-09-02      1367.53     1364.75     1373.73    1364.27  1.274407e+10          6.096417e+12\n",
            "1  2013-09-03      1373.82     1366.99     1384.18    1366.99  2.216425e+10          6.124461e+12\n",
            "2  2013-09-04      1375.66     1372.98     1376.42    1365.21  1.692969e+10          6.132675e+12\n",
            "3  2013-09-05      1422.40     1375.66     1422.40    1373.29  3.763559e+10          6.341025e+12\n",
            "4  2013-09-06      1423.40     1421.86     1448.75    1418.80  5.218912e+10          6.345500e+12\n"
          ]
        },
        {
          "data": {
            "text/plain": [
              "(2845, 7)"
            ]
          },
          "execution_count": 6,
          "metadata": {},
          "output_type": "execute_result"
        }
      ],
      "source": [
        "#IMOEX\n",
        "\n",
        "Subset = ['TRADEDATE','CLOSE','OPEN','HIGH','LOW','VALUE','CAPITALIZATION']\n",
        "IMOEX = IMOEX_df[Subset]\n",
        "Headings_IMOEX = {\n",
        "    'TRADEDATE': 'TRADEDATE',\n",
        "    'CLOSE': 'CLOSE_IMOEX',\n",
        "    'OPEN': 'OPEN_IMOEX',\n",
        "    'HIGH': 'HIGH_IMOEX',\n",
        "    'LOW': 'LOW_IMOEX',\n",
        "    'VALUE': 'VALUE_IMOEX',\n",
        "    'CAPITALIZATION': 'CAPITALIZATION_IMOEX'\n",
        "}\n",
        "IMOEX = IMOEX.rename(columns = Headings_IMOEX)\n",
        "print(IMOEX.head().to_string())\n",
        "IMOEX.shape"
      ]
    },
    {
      "cell_type": "markdown",
      "metadata": {},
      "source": [
        "В получившемся итоговом датафрейме пропуском не осталось"
      ]
    },
    {
      "cell_type": "code",
      "execution_count": 7,
      "metadata": {},
      "outputs": [
        {
          "data": {
            "text/plain": [
              "TRADEDATE               False\n",
              "CLOSE_IMOEX             False\n",
              "OPEN_IMOEX              False\n",
              "HIGH_IMOEX              False\n",
              "LOW_IMOEX               False\n",
              "VALUE_IMOEX             False\n",
              "CAPITALIZATION_IMOEX    False\n",
              "dtype: bool"
            ]
          },
          "execution_count": 7,
          "metadata": {},
          "output_type": "execute_result"
        }
      ],
      "source": [
        "IMOEX.isnull().any()"
      ]
    },
    {
      "cell_type": "markdown",
      "metadata": {},
      "source": [
        "### Обработка MOEX_MM"
      ]
    },
    {
      "cell_type": "code",
      "execution_count": 8,
      "metadata": {},
      "outputs": [
        {
          "name": "stdout",
          "output_type": "stream",
          "text": [
            "  BOARDID   SECID   TRADEDATE                 SHORTNAME  \\\n",
            "0    SNDX  MOEXMM  2013-09-02  Индекс металлов и добычи   \n",
            "1    SNDX  MOEXMM  2013-09-03  Индекс металлов и добычи   \n",
            "2    SNDX  MOEXMM  2013-09-04  Индекс металлов и добычи   \n",
            "3    SNDX  MOEXMM  2013-09-05  Индекс металлов и добычи   \n",
            "4    SNDX  MOEXMM  2013-09-06  Индекс металлов и добычи   \n",
            "\n",
            "                                NAME    CLOSE     OPEN     HIGH      LOW  \\\n",
            "0  Индекс МосБиржи металлов и добычи  2109.53  2103.86  2120.72  2100.19   \n",
            "1  Индекс МосБиржи металлов и добычи  2102.51  2109.79  2123.56  2089.09   \n",
            "2  Индекс МосБиржи металлов и добычи  2109.74  2101.98  2112.03  2088.95   \n",
            "3  Индекс МосБиржи металлов и добычи  2161.35  2110.70  2162.06  2104.88   \n",
            "4  Индекс МосБиржи металлов и добычи  2157.45  2159.63  2199.92  2154.78   \n",
            "\n",
            "          VALUE  DURATION  YIELD  DECIMALS  CAPITALIZATION CURRENCYID  \\\n",
            "0  8.886807e+08       NaN    NaN         2    2.345484e+11        RUB   \n",
            "1  1.304529e+09       NaN    NaN         2    2.337673e+11        RUB   \n",
            "2  1.283077e+09       NaN    NaN         2    2.345715e+11        RUB   \n",
            "3  2.779851e+09       NaN    NaN         2    2.403100e+11        RUB   \n",
            "4  3.672785e+09       NaN    NaN         2    2.398759e+11        RUB   \n",
            "\n",
            "   DIVISOR  TRADINGSESSION  VOLUME  \n",
            "0      NaN               3     NaN  \n",
            "1      NaN               3     NaN  \n",
            "2      NaN               3     NaN  \n",
            "3      NaN               3     NaN  \n",
            "4      NaN               3     NaN  \n"
          ]
        }
      ],
      "source": [
        "print(MOEXMM_df.head())"
      ]
    },
    {
      "cell_type": "code",
      "execution_count": 9,
      "metadata": {},
      "outputs": [
        {
          "data": {
            "text/plain": [
              "BOARDID              0\n",
              "SECID                0\n",
              "TRADEDATE            0\n",
              "SHORTNAME            0\n",
              "NAME                 0\n",
              "CLOSE                0\n",
              "OPEN                 0\n",
              "HIGH                 0\n",
              "LOW                  0\n",
              "VALUE                0\n",
              "DURATION          1065\n",
              "YIELD             1065\n",
              "DECIMALS             0\n",
              "CAPITALIZATION       0\n",
              "CURRENCYID           0\n",
              "DIVISOR             80\n",
              "TRADINGSESSION       0\n",
              "VOLUME            2845\n",
              "dtype: int64"
            ]
          },
          "execution_count": 9,
          "metadata": {},
          "output_type": "execute_result"
        }
      ],
      "source": [
        "IMOEX_df.isnull().sum()"
      ]
    },
    {
      "cell_type": "code",
      "execution_count": 10,
      "metadata": {},
      "outputs": [
        {
          "name": "stdout",
          "output_type": "stream",
          "text": [
            "[nan  0.]\n",
            "[nan  0.]\n",
            "[           nan 1.62353092e+08 1.44537357e+08 1.26491770e+08\n",
            " 1.27133103e+08 1.27432336e+08 1.39922642e+08 1.34654768e+08\n",
            " 1.35272929e+08 1.20986892e+08 1.12702897e+08 1.29080340e+08\n",
            " 1.30446110e+08 1.34221324e+08 1.21584398e+08 1.57140921e+08\n",
            " 1.59587492e+08 1.79722214e+08 1.79722214e+08 1.79575136e+08\n",
            " 1.77827615e+08 1.69385852e+08 1.61823138e+08 1.69285623e+08\n",
            " 1.72755994e+08 1.69563875e+08 1.79400138e+08 1.84464611e+08\n",
            " 1.72138181e+08 1.58483725e+08 1.60529704e+08 1.60529704e+08\n",
            " 1.77542508e+08 1.98708016e+08 2.06122011e+08 2.22341609e+08\n",
            " 2.25196183e+08 2.08936150e+08 2.07648058e+08 2.12555730e+08\n",
            " 2.14727821e+08 1.63382893e+08 1.00527157e+08 1.12468175e+08\n",
            " 1.07058846e+08 1.08257207e+08 1.06246719e+08 1.00865142e+08\n",
            " 9.96375796e+07]\n"
          ]
        }
      ],
      "source": [
        "print(MOEXMM_df['DURATION'].unique())\n",
        "print(MOEXMM_df['YIELD'].unique())\n",
        "print(MOEXMM_df['DIVISOR'].unique())"
      ]
    },
    {
      "cell_type": "code",
      "execution_count": 11,
      "metadata": {},
      "outputs": [
        {
          "name": "stdout",
          "output_type": "stream",
          "text": [
            "    TRADEDATE  CLOSE_MOEXMM  OPEN_MOEXMM  HIGH_MOEXMM  LOW_MOEXMM  VALUE_MOEXMM  CAPITALIZATION_MOEXMM\n",
            "0  2013-09-02       2109.53      2103.86      2120.72     2100.19  8.886807e+08           2.345484e+11\n",
            "1  2013-09-03       2102.51      2109.79      2123.56     2089.09  1.304529e+09           2.337673e+11\n",
            "2  2013-09-04       2109.74      2101.98      2112.03     2088.95  1.283077e+09           2.345715e+11\n",
            "3  2013-09-05       2161.35      2110.70      2162.06     2104.88  2.779851e+09           2.403100e+11\n",
            "4  2013-09-06       2157.45      2159.63      2199.92     2154.78  3.672785e+09           2.398759e+11\n"
          ]
        },
        {
          "data": {
            "text/plain": [
              "(2842, 7)"
            ]
          },
          "execution_count": 11,
          "metadata": {},
          "output_type": "execute_result"
        }
      ],
      "source": [
        "#MOEX_MM\n",
        "\n",
        "Subset = ['TRADEDATE','CLOSE','OPEN','HIGH','LOW','VALUE','CAPITALIZATION']\n",
        "MOEXMM = MOEXMM_df[Subset]\n",
        "Headings_MOEXMM = {\n",
        "    'TRADEDATE': 'TRADEDATE',\n",
        "    'CLOSE': 'CLOSE_MOEXMM',\n",
        "    'OPEN': 'OPEN_MOEXMM',\n",
        "    'HIGH': 'HIGH_MOEXMM',\n",
        "    'LOW': 'LOW_MOEXMM',\n",
        "    'VALUE': 'VALUE_MOEXMM',\n",
        "    'CAPITALIZATION': 'CAPITALIZATION_MOEXMM'\n",
        "}\n",
        "MOEXMM = MOEXMM.rename(columns = Headings_MOEXMM)\n",
        "print(MOEXMM.head().to_string())\n",
        "MOEXMM.shape"
      ]
    },
    {
      "cell_type": "code",
      "execution_count": 12,
      "metadata": {},
      "outputs": [
        {
          "data": {
            "text/plain": [
              "TRADEDATE                False\n",
              "CLOSE_MOEXMM             False\n",
              "OPEN_MOEXMM              False\n",
              "HIGH_MOEXMM              False\n",
              "LOW_MOEXMM               False\n",
              "VALUE_MOEXMM             False\n",
              "CAPITALIZATION_MOEXMM    False\n",
              "dtype: bool"
            ]
          },
          "execution_count": 12,
          "metadata": {},
          "output_type": "execute_result"
        }
      ],
      "source": [
        "MOEXMM.isnull().any()"
      ]
    },
    {
      "cell_type": "markdown",
      "metadata": {},
      "source": [
        "### Обработка датафрейма с данными по инфляции"
      ]
    },
    {
      "cell_type": "code",
      "execution_count": 13,
      "metadata": {},
      "outputs": [
        {
          "name": "stdout",
          "output_type": "stream",
          "text": [
            "         Date Key_rate Inflation Inflation_goal\n",
            "0  2025-01-01    21,00      9,92           4,00\n",
            "1  2024-12-01    21,00      9,52           4,00\n",
            "2  2024-11-01    21,00      8,88           4,00\n",
            "3  2024-10-01    21,00      8,54           4,00\n",
            "4  2024-09-01    19,00      8,63           4,00\n"
          ]
        }
      ],
      "source": [
        "print(INFLATION_df.head().to_string())"
      ]
    },
    {
      "cell_type": "markdown",
      "metadata": {},
      "source": [
        "### Описание признаков до исключения"
      ]
    },
    {
      "cell_type": "markdown",
      "metadata": {},
      "source": [
        "* **Key_rate** - ключевая ставка, устанавливаемая ЦБ. \n",
        "\n",
        "* **Inflation** - среднемесячный темп инфляции. Этот признак особо важен, так как золото является хеджирующим активом от инфляции, следовательно, именно этот показатель будет формировать основную динамику цен на золото\n",
        "\n",
        "* **Inflational_goal** - таргет по инфляции "
      ]
    },
    {
      "cell_type": "markdown",
      "metadata": {},
      "source": [
        "В столбцах Key_rate, Inflation, Inflation_goal значения нельзя конвертировать во float, так как там стоит запятая как разделитель. Реализуем функцию которая меняет формат этих данных"
      ]
    },
    {
      "cell_type": "code",
      "execution_count": 14,
      "metadata": {},
      "outputs": [
        {
          "name": "stdout",
          "output_type": "stream",
          "text": [
            "         Date Key_rate Inflation Inflation_goal\n",
            "0  2025-01-01    21.00      9.92           4.00\n",
            "1  2024-12-01    21.00      9.52           4.00\n",
            "2  2024-11-01    21.00      8.88           4.00\n",
            "3  2024-10-01    21.00      8.54           4.00\n",
            "4  2024-09-01    19.00      8.63           4.00\n"
          ]
        }
      ],
      "source": [
        "def correct(number):\n",
        "    cor_val = number.replace(',', '.')\n",
        "    return cor_val\n",
        "corrected_1 = INFLATION_df['Key_rate'].map(correct)\n",
        "INFLATION_df['Key_rate'] = corrected_1\n",
        "corrected_2 = INFLATION_df['Inflation'].map(correct)\n",
        "INFLATION_df['Inflation'] = corrected_2\n",
        "corrected_3 = INFLATION_df['Inflation_goal'].map(correct)\n",
        "INFLATION_df['Inflation_goal'] = corrected_3\n",
        "print(INFLATION_df.head().to_string())\n"
      ]
    },
    {
      "cell_type": "code",
      "execution_count": 15,
      "metadata": {},
      "outputs": [
        {
          "name": "stdout",
          "output_type": "stream",
          "text": [
            "['4.00' '—']\n"
          ]
        }
      ],
      "source": [
        "print(INFLATION_df['Inflation_goal'].unique())"
      ]
    },
    {
      "cell_type": "markdown",
      "metadata": {},
      "source": [
        "Таргет по инфляции одинаковый для всего дата фрейма, ниже 2014 года он заполнен NaN, так как тогда еще не проводилась политика таргетирования инфляции, поэтому исключим этот столбец"
      ]
    },
    {
      "cell_type": "code",
      "execution_count": 16,
      "metadata": {},
      "outputs": [
        {
          "data": {
            "text/plain": [
              "TRADEDATE    False\n",
              "Key_rate     False\n",
              "Inflation    False\n",
              "dtype: bool"
            ]
          },
          "execution_count": 16,
          "metadata": {},
          "output_type": "execute_result"
        }
      ],
      "source": [
        "INFLATION = INFLATION_df.drop(['Inflation_goal'], axis = 1)\n",
        "INFLATION.rename(columns = {'Date': 'TRADEDATE'},  inplace=True)\n",
        "INFLATION.isnull().any()"
      ]
    },
    {
      "cell_type": "code",
      "execution_count": 17,
      "metadata": {},
      "outputs": [
        {
          "name": "stdout",
          "output_type": "stream",
          "text": [
            "    TRADEDATE Key_rate Inflation\n",
            "0  2025-01-01    21.00      9.92\n",
            "1  2024-12-01    21.00      9.52\n",
            "2  2024-11-01    21.00      8.88\n",
            "3  2024-10-01    21.00      8.54\n",
            "4  2024-09-01    19.00      8.63\n"
          ]
        },
        {
          "data": {
            "text/plain": [
              "(137, 3)"
            ]
          },
          "execution_count": 17,
          "metadata": {},
          "output_type": "execute_result"
        }
      ],
      "source": [
        "print(INFLATION.head().to_string())\n",
        "INFLATION.shape"
      ]
    },
    {
      "cell_type": "markdown",
      "metadata": {},
      "source": [
        "### Обработка датафрейма валютного курса USD RUB из данных ЦБ"
      ]
    },
    {
      "cell_type": "markdown",
      "metadata": {},
      "source": [
        "Признаком является официальный курсвалютной пары доллар рубль Банка России"
      ]
    },
    {
      "cell_type": "code",
      "execution_count": 18,
      "metadata": {},
      "outputs": [
        {
          "name": "stdout",
          "output_type": "stream",
          "text": [
            "         Date  USD_RUB\n",
            "0  03.09.2013  33.2522\n",
            "1  04.09.2013  33.3693\n",
            "2  05.09.2013  33.4656\n",
            "3  06.09.2013  33.3901\n",
            "4  07.09.2013  33.4338\n"
          ]
        }
      ],
      "source": [
        "print(USDRUB_df.head().to_string())"
      ]
    },
    {
      "cell_type": "markdown",
      "metadata": {},
      "source": [
        "Единственной проблемой в этом датафрейме является тот факт, что дата не находится в формате date.\n"
      ]
    },
    {
      "cell_type": "code",
      "execution_count": 19,
      "metadata": {},
      "outputs": [
        {
          "name": "stdout",
          "output_type": "stream",
          "text": [
            "   TRADEDATE  USD_RUB\n",
            "0 2013-09-03  33.2522\n",
            "1 2013-09-04  33.3693\n",
            "2 2013-09-05  33.4656\n",
            "3 2013-09-06  33.3901\n",
            "4 2013-09-07  33.4338\n"
          ]
        },
        {
          "data": {
            "text/plain": [
              "(2800, 2)"
            ]
          },
          "execution_count": 19,
          "metadata": {},
          "output_type": "execute_result"
        }
      ],
      "source": [
        "USDRUB_df['Date'] = pd.to_datetime(USDRUB_df['Date'], format='%d.%m.%Y')\n",
        "USDRUB_df.rename(columns = {'Date': 'TRADEDATE'},  inplace=True)\n",
        "print(USDRUB_df.head().to_string())\n",
        "USDRUB_df.shape"
      ]
    },
    {
      "cell_type": "code",
      "execution_count": 20,
      "metadata": {},
      "outputs": [
        {
          "data": {
            "text/plain": [
              "TRADEDATE    False\n",
              "USD_RUB      False\n",
              "dtype: bool"
            ]
          },
          "execution_count": 20,
          "metadata": {},
          "output_type": "execute_result"
        }
      ],
      "source": [
        "USDRUB_df.isnull().any()"
      ]
    },
    {
      "cell_type": "markdown",
      "metadata": {},
      "source": [
        "### Обработка датафрейма цен на золото из данных ЦБ"
      ]
    },
    {
      "cell_type": "code",
      "execution_count": 21,
      "metadata": {},
      "outputs": [
        {
          "name": "stdout",
          "output_type": "stream",
          "text": [
            "         Date Price_GOLD\n",
            "0  03.09.2013    1487,36\n",
            "1  04.09.2013     1492,6\n",
            "2  05.09.2013    1510,36\n",
            "3  06.09.2013    1494,07\n",
            "4  07.09.2013    1470,76\n"
          ]
        }
      ],
      "source": [
        "print(GOLD_df.head().to_string())"
      ]
    },
    {
      "cell_type": "code",
      "execution_count": 22,
      "metadata": {},
      "outputs": [
        {
          "data": {
            "text/plain": [
              "Date          False\n",
              "Price_GOLD    False\n",
              "dtype: bool"
            ]
          },
          "execution_count": 22,
          "metadata": {},
          "output_type": "execute_result"
        }
      ],
      "source": [
        "GOLD_df.isnull().any()"
      ]
    },
    {
      "cell_type": "code",
      "execution_count": 23,
      "metadata": {},
      "outputs": [
        {
          "name": "stdout",
          "output_type": "stream",
          "text": [
            "   TRADEDATE Price_GOLD\n",
            "0 2013-09-03    1487,36\n",
            "1 2013-09-04     1492,6\n",
            "2 2013-09-05    1510,36\n",
            "3 2013-09-06    1494,07\n",
            "4 2013-09-07    1470,76\n"
          ]
        }
      ],
      "source": [
        "GOLD_df['Date'] = pd.to_datetime(GOLD_df['Date'], format='%d.%m.%Y')\n",
        "GOLD_df.rename(columns = {'Date': 'TRADEDATE'},  inplace=True)\n",
        "print(GOLD_df.head().to_string())"
      ]
    },
    {
      "cell_type": "code",
      "execution_count": 24,
      "metadata": {},
      "outputs": [
        {
          "name": "stdout",
          "output_type": "stream",
          "text": [
            "   TRADEDATE Price_GOLD\n",
            "0 2013-09-03    1487.36\n",
            "1 2013-09-04     1492.6\n",
            "2 2013-09-05    1510.36\n",
            "3 2013-09-06    1494.07\n",
            "4 2013-09-07    1470.76\n"
          ]
        }
      ],
      "source": [
        "def correct(number):\n",
        "    cor_val = number.replace(',', '.')\n",
        "    return cor_val\n",
        "corrected = GOLD_df['Price_GOLD'].map(correct)\n",
        "GOLD_df['Price_GOLD'] = corrected\n",
        "print(GOLD_df.head().to_string())"
      ]
    },
    {
      "cell_type": "markdown",
      "metadata": {},
      "source": [
        "### Объединение датафреймов"
      ]
    },
    {
      "cell_type": "markdown",
      "metadata": {},
      "source": [
        "1) Не все данные отсортированы по дате: GOLD_df USDRUB_df, MOEXMM, IMOEX отсортированы от start_date, датафрейм инфляции, наоборот, начинается с end_date. Поэтому нам надо отсортировать INFLATION по дате"
      ]
    },
    {
      "cell_type": "code",
      "execution_count": 25,
      "metadata": {},
      "outputs": [
        {
          "name": "stdout",
          "output_type": "stream",
          "text": [
            "      TRADEDATE Key_rate Inflation\n",
            "136  2013-09-01     5.50      6.14\n",
            "135  2013-10-01     5.50      6.27\n",
            "134  2013-11-01     5.50      6.50\n",
            "133  2013-12-01     5.50      6.47\n",
            "132  2014-01-01     5.50      6.07\n",
            "..          ...      ...       ...\n",
            "4    2024-09-01    19.00      8.63\n",
            "3    2024-10-01    21.00      8.54\n",
            "2    2024-11-01    21.00      8.88\n",
            "1    2024-12-01    21.00      9.52\n",
            "0    2025-01-01    21.00      9.92\n",
            "\n",
            "[137 rows x 3 columns]\n"
          ]
        }
      ],
      "source": [
        "INFLATION= INFLATION.sort_values(by='TRADEDATE')\n",
        "print(INFLATION)"
      ]
    },
    {
      "cell_type": "code",
      "execution_count": null,
      "metadata": {},
      "outputs": [
        {
          "name": "stdout",
          "output_type": "stream",
          "text": [
            "0\n",
            "0\n"
          ]
        }
      ],
      "source": [
        "print(IMOEX['TRADEDATE'].duplicated().sum())  # Проверка дубликатов в IMOEX\n",
        "print(MOEXMM['TRADEDATE'].duplicated().sum())  # Проверка дубликатов в MOEXMM"
      ]
    },
    {
      "cell_type": "code",
      "execution_count": null,
      "metadata": {},
      "outputs": [
        {
          "name": "stdout",
          "output_type": "stream",
          "text": [
            "    TRADEDATE  CLOSE_IMOEX  OPEN_IMOEX  HIGH_IMOEX  LOW_IMOEX   VALUE_IMOEX  CAPITALIZATION_IMOEX  CLOSE_MOEXMM  OPEN_MOEXMM  HIGH_MOEXMM  LOW_MOEXMM  VALUE_MOEXMM  CAPITALIZATION_MOEXMM Key_rate Inflation  USD_RUB Price_GOLD\n",
            "0  2013-09-01          NaN         NaN         NaN        NaN           NaN                   NaN           NaN          NaN          NaN         NaN           NaN                    NaN     5.50      6.14      NaN        NaN\n",
            "1  2013-09-02      1367.53     1364.75     1373.73    1364.27  1.274407e+10          6.096417e+12       2109.53      2103.86      2120.72     2100.19  8.886807e+08           2.345484e+11      NaN       NaN      NaN        NaN\n",
            "2  2013-09-03      1373.82     1366.99     1384.18    1366.99  2.216425e+10          6.124461e+12       2102.51      2109.79      2123.56     2089.09  1.304529e+09           2.337673e+11      NaN       NaN  33.2522    1487.36\n",
            "3  2013-09-04      1375.66     1372.98     1376.42    1365.21  1.692969e+10          6.132675e+12       2109.74      2101.98      2112.03     2088.95  1.283077e+09           2.345715e+11      NaN       NaN  33.3693     1492.6\n",
            "4  2013-09-05      1422.40     1375.66     1422.40    1373.29  3.763559e+10          6.341025e+12       2161.35      2110.70      2162.06     2104.88  2.779851e+09           2.403100e+11      NaN       NaN  33.4656    1510.36\n",
            "5  2013-09-06      1423.40     1421.86     1448.75    1418.80  5.218912e+10          6.345500e+12       2157.45      2159.63      2199.92     2154.78  3.672785e+09           2.398759e+11      NaN       NaN  33.3901    1494.07\n",
            "6  2013-09-07          NaN         NaN         NaN        NaN           NaN                   NaN           NaN          NaN          NaN         NaN           NaN                    NaN      NaN       NaN  33.4338    1470.76\n",
            "7  2013-09-09      1451.54     1423.40     1455.28    1421.45  4.579322e+10          6.470954e+12       2191.94      2164.13      2199.41     2164.13  3.046784e+09           2.437106e+11      NaN       NaN      NaN        NaN\n",
            "8  2013-09-10      1453.57     1451.54     1464.20    1446.97  4.892904e+10          6.480001e+12       2234.30      2195.60      2238.43     2195.60  3.415190e+09           2.484205e+11      NaN       NaN  33.3243    1484.96\n",
            "9  2013-09-11      1454.12     1452.52     1459.68    1449.58  3.068467e+10          6.482454e+12       2205.88      2234.30      2238.07     2204.98  2.719825e+09           2.452612e+11      NaN       NaN  33.0600    1459.37\n",
            "10 2013-09-12      1450.23     1454.21     1461.20    1441.58  3.273912e+10          6.465093e+12       2208.34      2209.81      2225.06     2193.81  3.406006e+09           2.455348e+11      NaN       NaN  32.9629    1446.87\n",
            "11 2013-09-13      1440.74     1450.66     1451.89    1434.74  2.469273e+10          6.422781e+12       2179.43      2205.76      2205.76     2170.27  1.961664e+09           2.423205e+11      NaN       NaN  32.6731    1407.88\n",
            "12 2013-09-14          NaN         NaN         NaN        NaN           NaN                   NaN           NaN          NaN          NaN         NaN           NaN                    NaN      NaN       NaN  32.7406    1377.11\n",
            "13 2013-09-16      1470.48     1441.06     1470.65    1438.79  4.430943e+10          6.555392e+12       2234.78      2185.10      2245.64     2185.10  4.392464e+09           2.484743e+11      NaN       NaN      NaN        NaN\n",
            "14 2013-09-17      1473.03     1470.71     1474.02    1461.86  2.362012e+10          6.916586e+12       2225.86      2233.20      2233.20     2212.19  1.621671e+09           3.071855e+11      NaN       NaN  32.2907    1364.93\n",
            "15 2013-09-18      1464.95     1472.17     1482.59    1462.18  3.522258e+10          6.878658e+12       2229.14      2225.86      2256.94     2217.39  2.382231e+09           3.076370e+11      NaN       NaN  32.3237    1368.93\n",
            "16 2013-09-19      1487.19     1464.35     1501.32    1463.80  5.389596e+10          6.983114e+12       2277.73      2233.04      2312.22     2233.04  4.570590e+09           3.143437e+11      NaN       NaN  32.2450    1347.45\n",
            "17 2013-09-20      1476.73     1486.49     1488.50    1476.07  3.155206e+10          6.933962e+12       2241.44      2277.00      2277.61     2235.36  2.076706e+09           3.093350e+11      NaN       NaN  31.5892    1384.79\n",
            "18 2013-09-21          NaN         NaN         NaN        NaN           NaN                   NaN           NaN          NaN          NaN         NaN           NaN                    NaN      NaN       NaN  31.7326    1382.66\n",
            "19 2013-09-23      1467.62     1476.69     1478.61    1463.61  2.631373e+10          6.891218e+12       2209.31      2240.74      2240.74     2205.58  1.961481e+09           3.049009e+11      NaN       NaN      NaN        NaN\n",
            "20 2013-09-24      1464.72     1466.41     1472.11    1459.21  2.791933e+10          6.877568e+12       2216.17      2209.31      2224.50     2196.12  1.760162e+09           3.058472e+11      NaN       NaN  31.9106    1356.05\n",
            "21 2013-09-25      1479.59     1464.72     1480.33    1459.13  2.680561e+10          6.947387e+12       2218.88      2216.17      2221.25     2192.55  1.750499e+09           3.062222e+11      NaN       NaN  31.8167    1346.69\n",
            "22 2013-09-26      1485.14     1479.59     1490.02    1475.35  2.779751e+10          6.973489e+12       2231.30      2218.88      2241.90     2210.10  1.903968e+09           3.079352e+11      NaN       NaN  31.9343    1355.51\n",
            "23 2013-09-27      1471.89     1483.99     1486.59    1468.35  2.796399e+10          6.911260e+12       2192.62      2231.88      2236.70     2187.40  2.203076e+09           3.025979e+11      NaN       NaN  32.1736    1378.34\n",
            "24 2013-09-28          NaN         NaN         NaN        NaN           NaN                   NaN           NaN          NaN          NaN         NaN           NaN                    NaN      NaN       NaN  32.3451    1374.25\n"
          ]
        }
      ],
      "source": [
        "# во избежание ошибок еще раз перевод столбца TRADEDATE в формат дат\n",
        "IMOEX['TRADEDATE'] = pd.to_datetime(IMOEX['TRADEDATE'])\n",
        "MOEXMM['TRADEDATE'] = pd.to_datetime(MOEXMM['TRADEDATE'])\n",
        "INFLATION['TRADEDATE'] = pd.to_datetime(INFLATION['TRADEDATE'])\n",
        "USDRUB_df['TRADEDATE'] = pd.to_datetime(USDRUB_df['TRADEDATE'])\n",
        "GOLD_df['TRADEDATE'] = pd.to_datetime(GOLD_df['TRADEDATE'])\n",
        "\n",
        "dataframes = [IMOEX, MOEXMM, INFLATION, USDRUB_df, GOLD_df]\n",
        "\n",
        "# функция для объединения (функция reduce из модуля functools последовательно кумулятивно берет элементы из dataframes и объединяет их слева направо)\n",
        "RESULT_df = reduce(lambda x, y: pd.merge(x, y, on='TRADEDATE', how='outer'), dataframes)\n",
        "\n",
        "print(RESULT_df.head(25).to_string())\n",
        "RESULT_df.shape"
      ]
    },
    {
      "cell_type": "markdown",
      "metadata": {},
      "source": [
        "### Заполнение пропусков"
      ]
    },
    {
      "cell_type": "code",
      "execution_count": 28,
      "metadata": {},
      "outputs": [
        {
          "data": {
            "text/plain": [
              "TRADEDATE                   0\n",
              "CLOSE_IMOEX               639\n",
              "OPEN_IMOEX                639\n",
              "HIGH_IMOEX                639\n",
              "LOW_IMOEX                 639\n",
              "VALUE_IMOEX               639\n",
              "CAPITALIZATION_IMOEX      639\n",
              "CLOSE_MOEXMM              642\n",
              "OPEN_MOEXMM               642\n",
              "HIGH_MOEXMM               642\n",
              "LOW_MOEXMM                642\n",
              "VALUE_MOEXMM              642\n",
              "CAPITALIZATION_MOEXMM     642\n",
              "Key_rate                 3347\n",
              "Inflation                3347\n",
              "USD_RUB                   684\n",
              "Price_GOLD                684\n",
              "dtype: int64"
            ]
          },
          "execution_count": 28,
          "metadata": {},
          "output_type": "execute_result"
        }
      ],
      "source": [
        "# смотрим количество пропусков\n",
        "RESULT_df.isnull().sum()"
      ]
    },
    {
      "cell_type": "markdown",
      "metadata": {},
      "source": [
        "Если в день нет данных по индексам, это означает что день - выходной. В данном случае разумно было бы предположить, что цена за выходной будет средним между ценами в смежные рабочие дни, поэтому эти пропуски мы заполним средним значением. Также составим новую колонку, где будет прописано рабочий это или выходной день."
      ]
    },
    {
      "cell_type": "code",
      "execution_count": 29,
      "metadata": {},
      "outputs": [
        {
          "name": "stdout",
          "output_type": "stream",
          "text": [
            "TRADEDATE                datetime64[ns]\n",
            "CLOSE_IMOEX                     float64\n",
            "OPEN_IMOEX                      float64\n",
            "HIGH_IMOEX                      float64\n",
            "LOW_IMOEX                       float64\n",
            "VALUE_IMOEX                     float64\n",
            "CAPITALIZATION_IMOEX            float64\n",
            "CLOSE_MOEXMM                    float64\n",
            "OPEN_MOEXMM                     float64\n",
            "HIGH_MOEXMM                     float64\n",
            "LOW_MOEXMM                      float64\n",
            "VALUE_MOEXMM                    float64\n",
            "CAPITALIZATION_MOEXMM           float64\n",
            "Key_rate                         object\n",
            "Inflation                        object\n",
            "USD_RUB                         float64\n",
            "Price_GOLD                       object\n",
            "dtype: object\n"
          ]
        }
      ],
      "source": [
        "print(RESULT_df.dtypes)"
      ]
    },
    {
      "cell_type": "code",
      "execution_count": 30,
      "metadata": {},
      "outputs": [
        {
          "name": "stdout",
          "output_type": "stream",
          "text": [
            "TRADEDATE                datetime64[ns]\n",
            "CLOSE_IMOEX                     float64\n",
            "OPEN_IMOEX                      float64\n",
            "HIGH_IMOEX                      float64\n",
            "LOW_IMOEX                       float64\n",
            "VALUE_IMOEX                     float64\n",
            "CAPITALIZATION_IMOEX            float64\n",
            "CLOSE_MOEXMM                    float64\n",
            "OPEN_MOEXMM                     float64\n",
            "HIGH_MOEXMM                     float64\n",
            "LOW_MOEXMM                      float64\n",
            "VALUE_MOEXMM                    float64\n",
            "CAPITALIZATION_MOEXMM           float64\n",
            "Key_rate                        float64\n",
            "Inflation                       float64\n",
            "USD_RUB                         float64\n",
            "Price_GOLD                      float64\n",
            "dtype: object\n"
          ]
        }
      ],
      "source": [
        "RESULT_df['Price_GOLD'] = pd.to_numeric(RESULT_df['Price_GOLD'])\n",
        "RESULT_df['Key_rate'] = pd.to_numeric(RESULT_df['Key_rate'])\n",
        "RESULT_df['Inflation'] = pd.to_numeric(RESULT_df['Inflation'])\n",
        "print(RESULT_df.dtypes)"
      ]
    },
    {
      "cell_type": "code",
      "execution_count": 45,
      "metadata": {},
      "outputs": [
        {
          "name": "stdout",
          "output_type": "stream",
          "text": [
            "Index(['CLOSE_IMOEX', 'OPEN_IMOEX', 'HIGH_IMOEX', 'LOW_IMOEX', 'VALUE_IMOEX',\n",
            "       'CAPITALIZATION_IMOEX', 'CLOSE_MOEXMM', 'OPEN_MOEXMM', 'HIGH_MOEXMM',\n",
            "       'LOW_MOEXMM', 'VALUE_MOEXMM', 'CAPITALIZATION_MOEXMM', 'Key_rate',\n",
            "       'Inflation', 'USD_RUB', 'Price_GOLD'],\n",
            "      dtype='object')\n"
          ]
        }
      ],
      "source": [
        "numeric_columns = RESULT_df.select_dtypes(include=['float64', 'int64']).columns\n",
        "print(numeric_columns)"
      ]
    },
    {
      "cell_type": "code",
      "execution_count": null,
      "metadata": {},
      "outputs": [
        {
          "name": "stdout",
          "output_type": "stream",
          "text": [
            "   TRADEDATE  CLOSE_IMOEX   OPEN_IMOEX   HIGH_IMOEX    LOW_IMOEX   VALUE_IMOEX  CAPITALIZATION_IMOEX  CLOSE_MOEXMM  OPEN_MOEXMM  HIGH_MOEXMM  LOW_MOEXMM  VALUE_MOEXMM  CAPITALIZATION_MOEXMM  Key_rate  Inflation    USD_RUB   Price_GOLD\n",
            "0 2013-09-01  2427.320151  2427.045428  2445.449308  2407.162077  5.210899e+10          9.884176e+12   6293.904813  6294.929209   6342.64829  6240.54035  9.512234e+09           1.025128e+12       5.5      6.140  66.741709  3504.222523\n",
            "1 2013-09-02  1367.530000  1364.750000  1373.730000  1364.270000  1.274407e+10          6.096417e+12   2109.530000  2103.860000   2120.72000  2100.19000  8.886807e+08           2.345484e+11       5.5      6.145  66.741709  3504.222523\n",
            "2 2013-09-03  1373.820000  1366.990000  1384.180000  1366.990000  2.216425e+10          6.124461e+12   2102.510000  2109.790000   2123.56000  2089.09000  1.304529e+09           2.337673e+11       5.5      6.150  33.252200  1487.360000\n",
            "3 2013-09-04  1375.660000  1372.980000  1376.420000  1365.210000  1.692969e+10          6.132675e+12   2109.740000  2101.980000   2112.03000  2088.95000  1.283077e+09           2.345715e+11       5.5      6.155  33.369300  1492.600000\n",
            "4 2013-09-05  1422.400000  1375.660000  1422.400000  1373.290000  3.763559e+10          6.341025e+12   2161.350000  2110.700000   2162.06000  2104.88000  2.779851e+09           2.403100e+11       5.5      6.160  33.465600  1510.360000\n",
            "5 2013-09-06  1423.400000  1421.860000  1448.750000  1418.800000  5.218912e+10          6.345500e+12   2157.450000  2159.630000   2199.92000  2154.78000  3.672785e+09           2.398759e+11       5.5      6.165  33.390100  1494.070000\n",
            "6 2013-09-07  1437.470000  1422.630000  1452.015000  1420.125000  4.899117e+10          6.408227e+12   2174.695000  2161.880000   2199.66500  2159.45500  3.359784e+09           2.417933e+11       5.5      6.170  33.433800  1470.760000\n",
            "7 2013-09-09  1451.540000  1423.400000  1455.280000  1421.450000  4.579322e+10          6.470954e+12   2191.940000  2164.130000   2199.41000  2164.13000  3.046784e+09           2.437106e+11       5.5      6.175  33.379050  1477.860000\n",
            "8 2013-09-10  1453.570000  1451.540000  1464.200000  1446.970000  4.892904e+10          6.480001e+12   2234.300000  2195.600000   2238.43000  2195.60000  3.415190e+09           2.484205e+11       5.5      6.180  33.324300  1484.960000\n",
            "9 2013-09-11  1454.120000  1452.520000  1459.680000  1449.580000  3.068467e+10          6.482454e+12   2205.880000  2234.300000   2238.07000  2204.98000  2.719825e+09           2.452612e+11       5.5      6.185  33.060000  1459.370000\n"
          ]
        }
      ],
      "source": [
        "RESULT_df[numeric_columns] = RESULT_df[numeric_columns].interpolate(method='linear')\n",
        "mis_replacer = SimpleImputer(strategy=\"mean\") \n",
        "RESULT_df[numeric_columns] = mis_replacer.fit_transform(RESULT_df[numeric_columns])\n",
        "print(RESULT_df.head(10).to_string())"
      ]
    },
    {
      "cell_type": "code",
      "execution_count": 35,
      "metadata": {},
      "outputs": [
        {
          "data": {
            "text/plain": [
              "TRADEDATE                False\n",
              "CLOSE_IMOEX              False\n",
              "OPEN_IMOEX               False\n",
              "HIGH_IMOEX               False\n",
              "LOW_IMOEX                False\n",
              "VALUE_IMOEX              False\n",
              "CAPITALIZATION_IMOEX     False\n",
              "CLOSE_MOEXMM             False\n",
              "OPEN_MOEXMM              False\n",
              "HIGH_MOEXMM              False\n",
              "LOW_MOEXMM               False\n",
              "VALUE_MOEXMM             False\n",
              "CAPITALIZATION_MOEXMM    False\n",
              "Key_rate                 False\n",
              "Inflation                False\n",
              "USD_RUB                  False\n",
              "Price_GOLD               False\n",
              "dtype: bool"
            ]
          },
          "execution_count": 35,
          "metadata": {},
          "output_type": "execute_result"
        }
      ],
      "source": [
        "RESULT_df.isnull().any()"
      ]
    },
    {
      "cell_type": "code",
      "execution_count": 47,
      "metadata": {},
      "outputs": [],
      "source": [
        "RESULT_df.to_csv('RESULT_df')"
      ]
    }
  ],
  "metadata": {
    "colab": {
      "provenance": []
    },
    "kernelspec": {
      "display_name": "Python 3",
      "language": "python",
      "name": "python3"
    },
    "language_info": {
      "codemirror_mode": {
        "name": "ipython",
        "version": 3
      },
      "file_extension": ".py",
      "mimetype": "text/x-python",
      "name": "python",
      "nbconvert_exporter": "python",
      "pygments_lexer": "ipython3",
      "version": "3.12.9"
    }
  },
  "nbformat": 4,
  "nbformat_minor": 0
}
