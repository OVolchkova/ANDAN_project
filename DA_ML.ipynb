{
 "cells": [
  {
   "cell_type": "markdown",
   "metadata": {},
   "source": [
    "# Шаг 6. Машинное обучение"
   ]
  },
  {
   "cell_type": "code",
   "execution_count": 1,
   "metadata": {},
   "outputs": [],
   "source": [
    "from sklearn.metrics import mean_squared_error\n",
    "from sklearn.model_selection import train_test_split\n",
    "from sklearn.linear_model import LinearRegression\n",
    "from sklearn.metrics import mean_squared_error, mean_absolute_error, r2_score, mean_squared_log_error\n",
    "from sklearn.neighbors import KNeighborsRegressor\n",
    "from sklearn.preprocessing import StandardScaler\n",
    "from sklearn.metrics import mean_squared_error\n",
    "from sklearn.tree import DecisionTreeRegressor\n",
    "from sklearn.ensemble import BaggingRegressor\n",
    "\n",
    "import numpy as np\n",
    "import pandas as pd"
   ]
  },
  {
   "cell_type": "code",
   "execution_count": 2,
   "metadata": {},
   "outputs": [
    {
     "data": {
      "text/html": [
       "<div>\n",
       "<style scoped>\n",
       "    .dataframe tbody tr th:only-of-type {\n",
       "        vertical-align: middle;\n",
       "    }\n",
       "\n",
       "    .dataframe tbody tr th {\n",
       "        vertical-align: top;\n",
       "    }\n",
       "\n",
       "    .dataframe thead th {\n",
       "        text-align: right;\n",
       "    }\n",
       "</style>\n",
       "<table border=\"1\" class=\"dataframe\">\n",
       "  <thead>\n",
       "    <tr style=\"text-align: right;\">\n",
       "      <th></th>\n",
       "      <th>TRADEDATE</th>\n",
       "      <th>CLOSE_IMOEX</th>\n",
       "      <th>OPEN_IMOEX</th>\n",
       "      <th>HIGH_IMOEX</th>\n",
       "      <th>LOW_IMOEX</th>\n",
       "      <th>VALUE_IMOEX</th>\n",
       "      <th>CAPITALIZATION_IMOEX</th>\n",
       "      <th>CLOSE_MOEXMM</th>\n",
       "      <th>OPEN_MOEXMM</th>\n",
       "      <th>HIGH_MOEXMM</th>\n",
       "      <th>...</th>\n",
       "      <th>SMA_long</th>\n",
       "      <th>RSI_IMOEX</th>\n",
       "      <th>ATR_IMOEX</th>\n",
       "      <th>Price_GOLD_Lagged</th>\n",
       "      <th>Day_type_выходной</th>\n",
       "      <th>Day_type_рабочий день</th>\n",
       "      <th>DYNAMICS_IMOEX_Fall</th>\n",
       "      <th>DYNAMICS_IMOEX_Growth</th>\n",
       "      <th>ECONOMIC_GROWTH_Recession</th>\n",
       "      <th>ECONOMIC_GROWTH_Rise</th>\n",
       "    </tr>\n",
       "  </thead>\n",
       "  <tbody>\n",
       "    <tr>\n",
       "      <th>0</th>\n",
       "      <td>2013-09-02</td>\n",
       "      <td>1367.53</td>\n",
       "      <td>1364.75</td>\n",
       "      <td>1373.73</td>\n",
       "      <td>1364.27</td>\n",
       "      <td>1.274407e+10</td>\n",
       "      <td>6.096417e+12</td>\n",
       "      <td>2109.53</td>\n",
       "      <td>2103.86</td>\n",
       "      <td>2120.72</td>\n",
       "      <td>...</td>\n",
       "      <td>1443.644725</td>\n",
       "      <td>100.0</td>\n",
       "      <td>22.518929</td>\n",
       "      <td>1487.36</td>\n",
       "      <td>False</td>\n",
       "      <td>True</td>\n",
       "      <td>False</td>\n",
       "      <td>True</td>\n",
       "      <td>False</td>\n",
       "      <td>True</td>\n",
       "    </tr>\n",
       "    <tr>\n",
       "      <th>1</th>\n",
       "      <td>2013-09-03</td>\n",
       "      <td>1373.82</td>\n",
       "      <td>1366.99</td>\n",
       "      <td>1384.18</td>\n",
       "      <td>1366.99</td>\n",
       "      <td>2.216425e+10</td>\n",
       "      <td>6.124461e+12</td>\n",
       "      <td>2102.51</td>\n",
       "      <td>2109.79</td>\n",
       "      <td>2123.56</td>\n",
       "      <td>...</td>\n",
       "      <td>1443.644725</td>\n",
       "      <td>100.0</td>\n",
       "      <td>22.518929</td>\n",
       "      <td>1487.36</td>\n",
       "      <td>False</td>\n",
       "      <td>True</td>\n",
       "      <td>False</td>\n",
       "      <td>True</td>\n",
       "      <td>False</td>\n",
       "      <td>True</td>\n",
       "    </tr>\n",
       "    <tr>\n",
       "      <th>2</th>\n",
       "      <td>2013-09-04</td>\n",
       "      <td>1375.66</td>\n",
       "      <td>1372.98</td>\n",
       "      <td>1376.42</td>\n",
       "      <td>1365.21</td>\n",
       "      <td>1.692969e+10</td>\n",
       "      <td>6.132675e+12</td>\n",
       "      <td>2109.74</td>\n",
       "      <td>2101.98</td>\n",
       "      <td>2112.03</td>\n",
       "      <td>...</td>\n",
       "      <td>1443.644725</td>\n",
       "      <td>100.0</td>\n",
       "      <td>22.518929</td>\n",
       "      <td>1487.36</td>\n",
       "      <td>False</td>\n",
       "      <td>True</td>\n",
       "      <td>False</td>\n",
       "      <td>True</td>\n",
       "      <td>False</td>\n",
       "      <td>True</td>\n",
       "    </tr>\n",
       "    <tr>\n",
       "      <th>3</th>\n",
       "      <td>2013-09-05</td>\n",
       "      <td>1422.40</td>\n",
       "      <td>1375.66</td>\n",
       "      <td>1422.40</td>\n",
       "      <td>1373.29</td>\n",
       "      <td>3.763559e+10</td>\n",
       "      <td>6.341025e+12</td>\n",
       "      <td>2161.35</td>\n",
       "      <td>2110.70</td>\n",
       "      <td>2162.06</td>\n",
       "      <td>...</td>\n",
       "      <td>1443.644725</td>\n",
       "      <td>100.0</td>\n",
       "      <td>22.518929</td>\n",
       "      <td>1487.36</td>\n",
       "      <td>False</td>\n",
       "      <td>True</td>\n",
       "      <td>False</td>\n",
       "      <td>True</td>\n",
       "      <td>False</td>\n",
       "      <td>True</td>\n",
       "    </tr>\n",
       "    <tr>\n",
       "      <th>4</th>\n",
       "      <td>2013-09-06</td>\n",
       "      <td>1423.40</td>\n",
       "      <td>1421.86</td>\n",
       "      <td>1448.75</td>\n",
       "      <td>1418.80</td>\n",
       "      <td>5.218912e+10</td>\n",
       "      <td>6.345500e+12</td>\n",
       "      <td>2157.45</td>\n",
       "      <td>2159.63</td>\n",
       "      <td>2199.92</td>\n",
       "      <td>...</td>\n",
       "      <td>1443.644725</td>\n",
       "      <td>100.0</td>\n",
       "      <td>22.518929</td>\n",
       "      <td>1487.36</td>\n",
       "      <td>False</td>\n",
       "      <td>True</td>\n",
       "      <td>False</td>\n",
       "      <td>True</td>\n",
       "      <td>False</td>\n",
       "      <td>True</td>\n",
       "    </tr>\n",
       "  </tbody>\n",
       "</table>\n",
       "<p>5 rows × 33 columns</p>\n",
       "</div>"
      ],
      "text/plain": [
       "    TRADEDATE  CLOSE_IMOEX  OPEN_IMOEX  HIGH_IMOEX  LOW_IMOEX   VALUE_IMOEX  \\\n",
       "0  2013-09-02      1367.53     1364.75     1373.73    1364.27  1.274407e+10   \n",
       "1  2013-09-03      1373.82     1366.99     1384.18    1366.99  2.216425e+10   \n",
       "2  2013-09-04      1375.66     1372.98     1376.42    1365.21  1.692969e+10   \n",
       "3  2013-09-05      1422.40     1375.66     1422.40    1373.29  3.763559e+10   \n",
       "4  2013-09-06      1423.40     1421.86     1448.75    1418.80  5.218912e+10   \n",
       "\n",
       "   CAPITALIZATION_IMOEX  CLOSE_MOEXMM  OPEN_MOEXMM  HIGH_MOEXMM  ...  \\\n",
       "0          6.096417e+12       2109.53      2103.86      2120.72  ...   \n",
       "1          6.124461e+12       2102.51      2109.79      2123.56  ...   \n",
       "2          6.132675e+12       2109.74      2101.98      2112.03  ...   \n",
       "3          6.341025e+12       2161.35      2110.70      2162.06  ...   \n",
       "4          6.345500e+12       2157.45      2159.63      2199.92  ...   \n",
       "\n",
       "      SMA_long  RSI_IMOEX  ATR_IMOEX  Price_GOLD_Lagged  Day_type_выходной  \\\n",
       "0  1443.644725      100.0  22.518929            1487.36              False   \n",
       "1  1443.644725      100.0  22.518929            1487.36              False   \n",
       "2  1443.644725      100.0  22.518929            1487.36              False   \n",
       "3  1443.644725      100.0  22.518929            1487.36              False   \n",
       "4  1443.644725      100.0  22.518929            1487.36              False   \n",
       "\n",
       "   Day_type_рабочий день  DYNAMICS_IMOEX_Fall  DYNAMICS_IMOEX_Growth  \\\n",
       "0                   True                False                   True   \n",
       "1                   True                False                   True   \n",
       "2                   True                False                   True   \n",
       "3                   True                False                   True   \n",
       "4                   True                False                   True   \n",
       "\n",
       "   ECONOMIC_GROWTH_Recession  ECONOMIC_GROWTH_Rise  \n",
       "0                      False                  True  \n",
       "1                      False                  True  \n",
       "2                      False                  True  \n",
       "3                      False                  True  \n",
       "4                      False                  True  \n",
       "\n",
       "[5 rows x 33 columns]"
      ]
     },
     "execution_count": 2,
     "metadata": {},
     "output_type": "execute_result"
    }
   ],
   "source": [
    "RESULT_df_itog = pd.read_csv('RESULT_df_itog')\n",
    "RESULT_df_itog.head()"
   ]
  },
  {
   "cell_type": "markdown",
   "metadata": {},
   "source": [
    "## Постановка задачи и отбор признаков"
   ]
  },
  {
   "cell_type": "markdown",
   "metadata": {},
   "source": [
    "Нашей задачей является **прогнозирование цен на золото**. Будем это делать с помощью моделей линейной регрессии, метода к ближайших соседей, бэггинга для регрессии. \n",
    "\n",
    "Зависимой (прогнозируемой) переменной (y) являются цены на золото (Price_GOLD в датафрейме)\n",
    "\n",
    "Параметрами модели (X) являются следующие признаки:\n",
    "\n",
    "Отбор параметров произведем с учетом корреляции признаков, полученной на этапе визуализации, независимости параметров модели и их качественного вклада в цену золота. Между IMOEX и MOEXMM корреляция с ценой золота больше у IMOEX, поэтому в качестве параметра выберем его, у курса USD RUB наивысшая корреляция с ценой золота, для учета инфляции возьмем ключевую ставку, так как ее корреляция с ценой золота также выше, а инфляция и ключевая ставка - зависимые параметры, поэтому оба параметра не должны быть включены. Для учета динамики экономического роста возьмем параметр ECONOMIC_GROWTH_Rise."
   ]
  },
  {
   "cell_type": "code",
   "execution_count": 3,
   "metadata": {},
   "outputs": [
    {
     "data": {
      "text/html": [
       "<div>\n",
       "<style scoped>\n",
       "    .dataframe tbody tr th:only-of-type {\n",
       "        vertical-align: middle;\n",
       "    }\n",
       "\n",
       "    .dataframe tbody tr th {\n",
       "        vertical-align: top;\n",
       "    }\n",
       "\n",
       "    .dataframe thead th {\n",
       "        text-align: right;\n",
       "    }\n",
       "</style>\n",
       "<table border=\"1\" class=\"dataframe\">\n",
       "  <thead>\n",
       "    <tr style=\"text-align: right;\">\n",
       "      <th></th>\n",
       "      <th>AVER_IMOEX</th>\n",
       "      <th>USD_RUB</th>\n",
       "      <th>Price_GOLD</th>\n",
       "      <th>Key_rate</th>\n",
       "      <th>ECONOMIC_GROWTH_Rise</th>\n",
       "    </tr>\n",
       "  </thead>\n",
       "  <tbody>\n",
       "    <tr>\n",
       "      <th>0</th>\n",
       "      <td>1366.140</td>\n",
       "      <td>33.2522</td>\n",
       "      <td>1487.36</td>\n",
       "      <td>8.0</td>\n",
       "      <td>True</td>\n",
       "    </tr>\n",
       "    <tr>\n",
       "      <th>1</th>\n",
       "      <td>1370.405</td>\n",
       "      <td>33.2522</td>\n",
       "      <td>1487.36</td>\n",
       "      <td>8.0</td>\n",
       "      <td>True</td>\n",
       "    </tr>\n",
       "    <tr>\n",
       "      <th>2</th>\n",
       "      <td>1374.320</td>\n",
       "      <td>33.3693</td>\n",
       "      <td>1492.60</td>\n",
       "      <td>8.0</td>\n",
       "      <td>True</td>\n",
       "    </tr>\n",
       "    <tr>\n",
       "      <th>3</th>\n",
       "      <td>1399.030</td>\n",
       "      <td>33.4656</td>\n",
       "      <td>1510.36</td>\n",
       "      <td>8.0</td>\n",
       "      <td>True</td>\n",
       "    </tr>\n",
       "    <tr>\n",
       "      <th>4</th>\n",
       "      <td>1422.630</td>\n",
       "      <td>33.3901</td>\n",
       "      <td>1494.07</td>\n",
       "      <td>8.0</td>\n",
       "      <td>True</td>\n",
       "    </tr>\n",
       "  </tbody>\n",
       "</table>\n",
       "</div>"
      ],
      "text/plain": [
       "   AVER_IMOEX  USD_RUB  Price_GOLD  Key_rate  ECONOMIC_GROWTH_Rise\n",
       "0    1366.140  33.2522     1487.36       8.0                  True\n",
       "1    1370.405  33.2522     1487.36       8.0                  True\n",
       "2    1374.320  33.3693     1492.60       8.0                  True\n",
       "3    1399.030  33.4656     1510.36       8.0                  True\n",
       "4    1422.630  33.3901     1494.07       8.0                  True"
      ]
     },
     "execution_count": 3,
     "metadata": {},
     "output_type": "execute_result"
    }
   ],
   "source": [
    "columns = ['AVER_IMOEX', 'USD_RUB', 'Price_GOLD','Key_rate', 'ECONOMIC_GROWTH_Rise']\n",
    "RESULT_ML = RESULT_df_itog[columns]\n",
    "RESULT_ML.head()"
   ]
  },
  {
   "cell_type": "markdown",
   "metadata": {},
   "source": [
    "Проверим пропуски в данных:"
   ]
  },
  {
   "cell_type": "code",
   "execution_count": 4,
   "metadata": {},
   "outputs": [
    {
     "name": "stdout",
     "output_type": "stream",
     "text": [
      "False\n"
     ]
    }
   ],
   "source": [
    "print(RESULT_ML.isnull().any().any())"
   ]
  },
  {
   "cell_type": "code",
   "execution_count": 5,
   "metadata": {},
   "outputs": [],
   "source": [
    "X = RESULT_ML.drop('Price_GOLD', axis=1) # объявили параметры модели\n",
    "y = RESULT_ML['Price_GOLD'] # объявили зависимую переменную\n",
    "X_train, X_test, y_train, y_test = train_test_split(X, y, test_size=0.2, random_state=1) # делим выборку на train и test"
   ]
  },
  {
   "cell_type": "markdown",
   "metadata": {},
   "source": [
    "## 1. Модель линейной регрессии"
   ]
  },
  {
   "cell_type": "markdown",
   "metadata": {},
   "source": [
    "Одним из наиболее распространенных вариантов прогнозирования является линейная регрессия, выполним ее для нашей выборки"
   ]
  },
  {
   "cell_type": "code",
   "execution_count": 6,
   "metadata": {},
   "outputs": [],
   "source": [
    "model_regression = LinearRegression()\n",
    "model_regression.fit(X_train, y_train)\n",
    "y_pred_regr = model_regression.predict(X_test)"
   ]
  },
  {
   "cell_type": "code",
   "execution_count": 7,
   "metadata": {},
   "outputs": [
    {
     "name": "stdout",
     "output_type": "stream",
     "text": [
      " Коэффициенты модели: \n",
      " [ 5.99030728e-01  6.62635562e+01  7.34282333e+01 -6.28519634e+02]\n",
      "Точка отсчета модели: \n",
      "-2593.6731218950126\n"
     ]
    }
   ],
   "source": [
    "print(f' Коэффициенты модели: \\n {model_regression.coef_}')\n",
    "print(f'Точка отсчета модели: \\n{model_regression.intercept_}')"
   ]
  },
  {
   "cell_type": "code",
   "execution_count": 8,
   "metadata": {},
   "outputs": [
    {
     "name": "stdout",
     "output_type": "stream",
     "text": [
      " Оценка MSE: \n",
      "313642.78134057904\n",
      " Оценка MAE: \n",
      "446.7575779006021\n",
      " Оценка r^2: \n",
      "0.8772529368592028\n"
     ]
    }
   ],
   "source": [
    "mse_regr = mean_squared_error(y_test, y_pred_regr)\n",
    "print(f' Оценка MSE: \\n{mse_regr}')\n",
    "mae_regr = mean_absolute_error(y_test, y_pred_regr)\n",
    "print(f' Оценка MAE: \\n{mae_regr}')\n",
    "r2_regr = r2_score(y_test, y_pred_regr)\n",
    "print(f' Оценка r^2: \\n{r2_regr}')"
   ]
  },
  {
   "cell_type": "markdown",
   "metadata": {},
   "source": [
    "* **Вывод:** Относительная оценка r^2 модели линейной регрессии показывает хорошее значение, изменение 88% данных объясняется моделью, однако средняя абсолютная и средняя квадратичная ошибка показывают плохие результаты: значения наших данных не такие большие, поэтому ошибку = 446 можно считать большой, не говоря уже о шестизначной MSE. Попробуем другую модель."
   ]
  },
  {
   "cell_type": "markdown",
   "metadata": {},
   "source": [
    "## 2. KNN для регрессии\n"
   ]
  },
  {
   "cell_type": "markdown",
   "metadata": {},
   "source": [
    "Отмасмштабируем признаки:"
   ]
  },
  {
   "cell_type": "code",
   "execution_count": 9,
   "metadata": {},
   "outputs": [],
   "source": [
    "scaler = StandardScaler()\n",
    "X_train_scaled = scaler.fit_transform(X_train)\n",
    "X_test_scaled = scaler.transform(X_test)"
   ]
  },
  {
   "cell_type": "code",
   "execution_count": 10,
   "metadata": {},
   "outputs": [
    {
     "data": {
      "text/html": [
       "<div>\n",
       "<style scoped>\n",
       "    .dataframe tbody tr th:only-of-type {\n",
       "        vertical-align: middle;\n",
       "    }\n",
       "\n",
       "    .dataframe tbody tr th {\n",
       "        vertical-align: top;\n",
       "    }\n",
       "\n",
       "    .dataframe thead th {\n",
       "        text-align: right;\n",
       "    }\n",
       "</style>\n",
       "<table border=\"1\" class=\"dataframe\">\n",
       "  <thead>\n",
       "    <tr style=\"text-align: right;\">\n",
       "      <th></th>\n",
       "      <th>k</th>\n",
       "      <th>R2 Train</th>\n",
       "      <th>R2 Test</th>\n",
       "    </tr>\n",
       "  </thead>\n",
       "  <tbody>\n",
       "    <tr>\n",
       "      <th>0</th>\n",
       "      <td>2</td>\n",
       "      <td>0.999381</td>\n",
       "      <td>0.998802</td>\n",
       "    </tr>\n",
       "    <tr>\n",
       "      <th>1</th>\n",
       "      <td>3</td>\n",
       "      <td>0.999144</td>\n",
       "      <td>0.998692</td>\n",
       "    </tr>\n",
       "    <tr>\n",
       "      <th>2</th>\n",
       "      <td>4</td>\n",
       "      <td>0.998728</td>\n",
       "      <td>0.998692</td>\n",
       "    </tr>\n",
       "    <tr>\n",
       "      <th>3</th>\n",
       "      <td>5</td>\n",
       "      <td>0.998373</td>\n",
       "      <td>0.998541</td>\n",
       "    </tr>\n",
       "    <tr>\n",
       "      <th>4</th>\n",
       "      <td>7</td>\n",
       "      <td>0.997596</td>\n",
       "      <td>0.997674</td>\n",
       "    </tr>\n",
       "    <tr>\n",
       "      <th>5</th>\n",
       "      <td>10</td>\n",
       "      <td>0.996022</td>\n",
       "      <td>0.996134</td>\n",
       "    </tr>\n",
       "    <tr>\n",
       "      <th>6</th>\n",
       "      <td>13</td>\n",
       "      <td>0.994675</td>\n",
       "      <td>0.994565</td>\n",
       "    </tr>\n",
       "    <tr>\n",
       "      <th>7</th>\n",
       "      <td>15</td>\n",
       "      <td>0.993884</td>\n",
       "      <td>0.993777</td>\n",
       "    </tr>\n",
       "    <tr>\n",
       "      <th>8</th>\n",
       "      <td>20</td>\n",
       "      <td>0.991089</td>\n",
       "      <td>0.991504</td>\n",
       "    </tr>\n",
       "    <tr>\n",
       "      <th>9</th>\n",
       "      <td>25</td>\n",
       "      <td>0.988492</td>\n",
       "      <td>0.989424</td>\n",
       "    </tr>\n",
       "    <tr>\n",
       "      <th>10</th>\n",
       "      <td>30</td>\n",
       "      <td>0.986031</td>\n",
       "      <td>0.987750</td>\n",
       "    </tr>\n",
       "    <tr>\n",
       "      <th>11</th>\n",
       "      <td>35</td>\n",
       "      <td>0.984328</td>\n",
       "      <td>0.986102</td>\n",
       "    </tr>\n",
       "    <tr>\n",
       "      <th>12</th>\n",
       "      <td>40</td>\n",
       "      <td>0.982627</td>\n",
       "      <td>0.984915</td>\n",
       "    </tr>\n",
       "    <tr>\n",
       "      <th>13</th>\n",
       "      <td>45</td>\n",
       "      <td>0.980778</td>\n",
       "      <td>0.983109</td>\n",
       "    </tr>\n",
       "    <tr>\n",
       "      <th>14</th>\n",
       "      <td>50</td>\n",
       "      <td>0.978702</td>\n",
       "      <td>0.981055</td>\n",
       "    </tr>\n",
       "    <tr>\n",
       "      <th>15</th>\n",
       "      <td>70</td>\n",
       "      <td>0.971412</td>\n",
       "      <td>0.974591</td>\n",
       "    </tr>\n",
       "    <tr>\n",
       "      <th>16</th>\n",
       "      <td>80</td>\n",
       "      <td>0.968836</td>\n",
       "      <td>0.971751</td>\n",
       "    </tr>\n",
       "    <tr>\n",
       "      <th>17</th>\n",
       "      <td>90</td>\n",
       "      <td>0.966030</td>\n",
       "      <td>0.968748</td>\n",
       "    </tr>\n",
       "    <tr>\n",
       "      <th>18</th>\n",
       "      <td>100</td>\n",
       "      <td>0.963151</td>\n",
       "      <td>0.966185</td>\n",
       "    </tr>\n",
       "    <tr>\n",
       "      <th>19</th>\n",
       "      <td>150</td>\n",
       "      <td>0.943359</td>\n",
       "      <td>0.949279</td>\n",
       "    </tr>\n",
       "    <tr>\n",
       "      <th>20</th>\n",
       "      <td>200</td>\n",
       "      <td>0.916751</td>\n",
       "      <td>0.927486</td>\n",
       "    </tr>\n",
       "    <tr>\n",
       "      <th>21</th>\n",
       "      <td>250</td>\n",
       "      <td>0.900974</td>\n",
       "      <td>0.912735</td>\n",
       "    </tr>\n",
       "  </tbody>\n",
       "</table>\n",
       "</div>"
      ],
      "text/plain": [
       "      k  R2 Train   R2 Test\n",
       "0     2  0.999381  0.998802\n",
       "1     3  0.999144  0.998692\n",
       "2     4  0.998728  0.998692\n",
       "3     5  0.998373  0.998541\n",
       "4     7  0.997596  0.997674\n",
       "5    10  0.996022  0.996134\n",
       "6    13  0.994675  0.994565\n",
       "7    15  0.993884  0.993777\n",
       "8    20  0.991089  0.991504\n",
       "9    25  0.988492  0.989424\n",
       "10   30  0.986031  0.987750\n",
       "11   35  0.984328  0.986102\n",
       "12   40  0.982627  0.984915\n",
       "13   45  0.980778  0.983109\n",
       "14   50  0.978702  0.981055\n",
       "15   70  0.971412  0.974591\n",
       "16   80  0.968836  0.971751\n",
       "17   90  0.966030  0.968748\n",
       "18  100  0.963151  0.966185\n",
       "19  150  0.943359  0.949279\n",
       "20  200  0.916751  0.927486\n",
       "21  250  0.900974  0.912735"
      ]
     },
     "execution_count": 10,
     "metadata": {},
     "output_type": "execute_result"
    }
   ],
   "source": [
    "# подбираем наилучший k, оценивать будем через метрику r^2, так как нам важно как модель объясняет изменения переменной\n",
    "k = np.array([2, 3, 4, 5, 7, 10, 13, 15, 20, 25, 30, 35, 40, 45, 50, 70, 80, 90, 100, 150, 200, 250])\n",
    "n = len(k)\n",
    "r2_train = np.zeros(n)\n",
    "r2_test = np.zeros(n)\n",
    "\n",
    "for i in range(n):\n",
    "  knn = KNeighborsRegressor(n_neighbors=k[i], p=1, n_jobs=10)\n",
    "  knn.fit(X_train_scaled, y_train)\n",
    "  y_pred_train = knn.predict(X_train_scaled)\n",
    "  y_pred_test = knn.predict(X_test_scaled)\n",
    "  r2_train[i] = r2_score(y_train, y_pred_train)\n",
    "  r2_test[i] = r2_score(y_test, y_pred_test)\n",
    "d = pd.DataFrame({'k': k, 'R2 Train': r2_train, 'R2 Test': r2_test})\n",
    "d"
   ]
  },
  {
   "cell_type": "code",
   "execution_count": 11,
   "metadata": {},
   "outputs": [
    {
     "name": "stdout",
     "output_type": "stream",
     "text": [
      "Лучшее значение k: 2\n"
     ]
    }
   ],
   "source": [
    "best_r2 = -1\n",
    "best_k = None\n",
    "for index, row in d.iterrows():\n",
    "    if row['R2 Test'] > best_r2:\n",
    "        best_r2 = row['R2 Test']\n",
    "        best_k = row['k']\n",
    "\n",
    "print(f\"Лучшее значение k: {int(best_k)}\")"
   ]
  },
  {
   "cell_type": "code",
   "execution_count": 12,
   "metadata": {},
   "outputs": [
    {
     "name": "stdout",
     "output_type": "stream",
     "text": [
      "Лучшее значение r2:\n",
      " 0.9986767251920006\n"
     ]
    }
   ],
   "source": [
    "knn = KNeighborsRegressor(n_neighbors=int(best_k), p=2, n_jobs=10)\n",
    "knn.fit(X_train_scaled, y_train)\n",
    "\n",
    "y_pred_test_final = knn.predict(X_test_scaled)\n",
    "r2_test_final = r2_score(y_test, y_pred_test_final)\n",
    "print(f\"Лучшее значение r2:\\n {r2_test_final}\")"
   ]
  },
  {
   "cell_type": "code",
   "execution_count": 19,
   "metadata": {},
   "outputs": [
    {
     "name": "stdout",
     "output_type": "stream",
     "text": [
      " Оценка MSE: \n",
      "3381.226243945192\n",
      " Оценка MAE: \n",
      "34.32024532861927\n",
      " Оценка MSLE на тестовой выборке: \n",
      "0.0002\n",
      " Оценка RMSLE на тестовой выборке: \n",
      "0.0154\n"
     ]
    }
   ],
   "source": [
    "mse_knn = mean_squared_error(y_test, y_pred_test_final)\n",
    "print(f' Оценка MSE: \\n{mse_knn}')\n",
    "mae_knn = mean_absolute_error(y_test, y_pred_test_final)\n",
    "print(f' Оценка MAE: \\n{mae_knn}')\n",
    "msle_test = mean_squared_log_error(y_test, y_pred_test_final)\n",
    "print(f' Оценка MSLE на тестовой выборке: \\n{round(msle_test, 4)}')\n",
    "rmsle_test_knn = np.sqrt(mean_squared_log_error(y_test, y_pred_test_final))\n",
    "print(f' Оценка RMSLE на тестовой выборке: \\n{round(rmsle_test_knn, 4)}')"
   ]
  },
  {
   "cell_type": "markdown",
   "metadata": {},
   "source": [
    "* **Вывод:** **Оценки стали значительно лучше**: r^2 равен почти 1, значит модель практически идеально объясняет данные. MSLE равна очень маленькому числу, что говорит о том, что модель хорошо предсказывает маленькие значения. Однако MSE опять высокая, что в комбинации с низкой MSLE свидетельствует о том, что модель хорошо предсказывает маленькие значения, но плохо большие. MAE получился низкий, что подтверждает что модель неплохо предсказывает значения и не переобучена. RMLSE - аналогично имеет низкое значение"
   ]
  },
  {
   "cell_type": "markdown",
   "metadata": {},
   "source": [
    "## 3. Бэггинг"
   ]
  },
  {
   "cell_type": "markdown",
   "metadata": {},
   "source": [
    "Попробуем еще улучшить параметры и реализовать бэггинг для модели регрессии - уменьшим дисперсию и попытаемся избежать переобучения."
   ]
  },
  {
   "cell_type": "markdown",
   "metadata": {},
   "source": [
    "Источник: https://github.com/hse-ds/iad-intro-ds/blob/master/2023/seminars/sem13_rf/sem13_rf_solution.ipynb"
   ]
  },
  {
   "cell_type": "code",
   "execution_count": 14,
   "metadata": {},
   "outputs": [],
   "source": [
    "base_tree = DecisionTreeRegressor() # Создали решающее дерево для регрессии - базовую модель \n",
    "bag = BaggingRegressor(base_tree, n_estimators=100, n_jobs=4, random_state=100) # Создали ансамбль моделей (100 деревьев) с использованием бэггинга\n",
    "bag.fit(X_train, y_train) # Обучили бэггинг \n",
    "y_pred_train = bag.predict(X_train)\n",
    "y_pred_test = bag.predict(X_test)"
   ]
  },
  {
   "cell_type": "code",
   "execution_count": 15,
   "metadata": {},
   "outputs": [
    {
     "name": "stdout",
     "output_type": "stream",
     "text": [
      " Оценка r^2 на тренировочной выборке: \n",
      "0.9996\n",
      " Оценка r^2 на тестовой выборке: \n",
      "0.9963\n"
     ]
    }
   ],
   "source": [
    "r2_train = r2_score(y_train, y_pred_train)\n",
    "r2_test = r2_score(y_test, y_pred_test)\n",
    "print(f' Оценка r^2 на тренировочной выборке: \\n{round(r2_train, 4)}')\n",
    "print(f' Оценка r^2 на тестовой выборке: \\n{round(r2_test, 4)}')"
   ]
  },
  {
   "cell_type": "code",
   "execution_count": 16,
   "metadata": {},
   "outputs": [
    {
     "name": "stdout",
     "output_type": "stream",
     "text": [
      " Оценка MSLE на тренировочной выборке: \n",
      "0.0001\n",
      " Оценка MSLE на тестовой выборке: \n",
      "0.0007\n"
     ]
    }
   ],
   "source": [
    "msle_train = mean_squared_log_error(y_train, y_pred_train)\n",
    "msle_test = mean_squared_log_error(y_test, y_pred_test)\n",
    "print(f' Оценка MSLE на тренировочной выборке: \\n{round(msle_train, 4)}')\n",
    "print(f' Оценка MSLE на тестовой выборке: \\n{round(msle_test, 4)}')"
   ]
  },
  {
   "cell_type": "code",
   "execution_count": 17,
   "metadata": {},
   "outputs": [
    {
     "name": "stdout",
     "output_type": "stream",
     "text": [
      " Оценка RMSLE на тренировочной выборке: \n",
      "0.0082\n",
      " Оценка RMSLE на тестовой выборке: \n",
      "0.0269\n"
     ]
    }
   ],
   "source": [
    "rmsle_train = np.sqrt(mean_squared_log_error(y_train, y_pred_train))\n",
    "rmsle_test = np.sqrt(mean_squared_log_error(y_test, y_pred_test))\n",
    "print(f' Оценка RMSLE на тренировочной выборке: \\n{round(rmsle_train, 4)}')\n",
    "print(f' Оценка RMSLE на тестовой выборке: \\n{round(rmsle_test, 4)}')"
   ]
  },
  {
   "cell_type": "code",
   "execution_count": 18,
   "metadata": {},
   "outputs": [
    {
     "name": "stdout",
     "output_type": "stream",
     "text": [
      " Оценка MSE: \n",
      "9356.004990803905\n",
      " Оценка MAE: \n",
      "42.34655761341121\n"
     ]
    }
   ],
   "source": [
    "mse_bag = mean_squared_error(y_test, y_pred_test)\n",
    "print(f' Оценка MSE: \\n{mse_bag}')\n",
    "mae_bag = mean_absolute_error(y_test, y_pred_test)\n",
    "print(f' Оценка MAE: \\n{mae_bag}')"
   ]
  },
  {
   "cell_type": "markdown",
   "metadata": {},
   "source": [
    "* **Вывод:** Оценки для этой модели улучшились относительно линейной регрессии, но относительно knn ухудшились: выросли MSE и MAE, на тестовой выборке выросло MSLE, и RMSLE"
   ]
  },
  {
   "cell_type": "markdown",
   "metadata": {},
   "source": [
    "Таким образом, мы обучили модель прогнозирования цен на золото с параметрами: средняя цена за день индекса IMOEX, курс доллар рубль, ключевая ставка, фаза экономического роста. модель линейной регрессии показала плохой результат, что говорит о том, что цена золота не является линейно завивимой от определенных параметров, а имеет более сложное ценообразование. Моделью, которая показала минимальные ошибки, то есть наилучшей, является метод k ближайших соседей для регрессии с k = 2."
   ]
  }
 ],
 "metadata": {
  "kernelspec": {
   "display_name": "Python 3",
   "language": "python",
   "name": "python3"
  },
  "language_info": {
   "codemirror_mode": {
    "name": "ipython",
    "version": 3
   },
   "file_extension": ".py",
   "mimetype": "text/x-python",
   "name": "python",
   "nbconvert_exporter": "python",
   "pygments_lexer": "ipython3",
   "version": "3.12.9"
  }
 },
 "nbformat": 4,
 "nbformat_minor": 2
}
