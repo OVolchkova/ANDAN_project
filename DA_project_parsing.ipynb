{
  "cells": [
    {
      "cell_type": "markdown",
      "metadata": {},
      "source": [
        "# Шаг 1. Парсинг данных"
      ]
    },
    {
      "cell_type": "markdown",
      "metadata": {},
      "source": [
        "### Парсинг данных индексов IMOEX, MOEXMM ###"
      ]
    },
    {
      "cell_type": "markdown",
      "metadata": {
        "id": "_-RKdv_hOz2w"
      },
      "source": [
        "Код основан на MOEX API с использованием https://iss.moex.com/iss/reference/"
      ]
    },
    {
      "cell_type": "code",
      "execution_count": 20,
      "metadata": {},
      "outputs": [],
      "source": [
        "# импорт библиотек для парсинга\n",
        "import requests\n",
        "import pandas as pd\n",
        "from bs4 import BeautifulSoup\n",
        "import warnings\n",
        "\n",
        "warnings.filterwarnings(\"ignore\")"
      ]
    },
    {
      "cell_type": "code",
      "execution_count": null,
      "metadata": {},
      "outputs": [],
      "source": [
        "# устанавливаем дату, с которой начнем собирать данные и которой закончим для данных MOEX\n",
        "\n",
        "start_date = '2013-09-01'\n",
        "end_date = '2025-01-01'"
      ]
    },
    {
      "cell_type": "code",
      "execution_count": 22,
      "metadata": {},
      "outputs": [
        {
          "name": "stdout",
          "output_type": "stream",
          "text": [
            "  BOARDID  SECID   TRADEDATE        SHORTNAME             NAME   CLOSE  OPEN  \\\n",
            "0    SNDX  IMOEX  1997-09-22  Индекс МосБиржи  Индекс МосБиржи  100.00   NaN   \n",
            "1    SNDX  IMOEX  1997-09-23  Индекс МосБиржи  Индекс МосБиржи  100.67   NaN   \n",
            "2    SNDX  IMOEX  1997-09-24  Индекс МосБиржи  Индекс МосБиржи   99.94   NaN   \n",
            "3    SNDX  IMOEX  1997-09-25  Индекс МосБиржи  Индекс МосБиржи   99.46   NaN   \n",
            "4    SNDX  IMOEX  1997-09-26  Индекс МосБиржи  Индекс МосБиржи   98.87   NaN   \n",
            "5    SNDX  IMOEX  1997-09-29  Индекс МосБиржи  Индекс МосБиржи   99.14   NaN   \n",
            "6    SNDX  IMOEX  1997-09-30  Индекс МосБиржи  Индекс МосБиржи  100.16   NaN   \n",
            "7    SNDX  IMOEX  1997-10-01  Индекс МосБиржи  Индекс МосБиржи  101.21   NaN   \n",
            "8    SNDX  IMOEX  1997-10-02  Индекс МосБиржи  Индекс МосБиржи  105.80   NaN   \n",
            "9    SNDX  IMOEX  1997-10-03  Индекс МосБиржи  Индекс МосБиржи  110.73   NaN   \n",
            "\n",
            "   HIGH  LOW  VALUE  DURATION  YIELD  DECIMALS  CAPITALIZATION CURRENCYID  \\\n",
            "0   NaN  NaN    NaN       NaN    NaN         2             NaN        RUB   \n",
            "1   NaN  NaN    NaN       NaN    NaN         2             NaN        RUB   \n",
            "2   NaN  NaN    NaN       NaN    NaN         2             NaN        RUB   \n",
            "3   NaN  NaN    NaN       NaN    NaN         2             NaN        RUB   \n",
            "4   NaN  NaN    NaN       NaN    NaN         2             NaN        RUB   \n",
            "5   NaN  NaN    NaN       NaN    NaN         2             NaN        RUB   \n",
            "6   NaN  NaN    NaN       NaN    NaN         2             NaN        RUB   \n",
            "7   NaN  NaN    NaN       NaN    NaN         2             NaN        RUB   \n",
            "8   NaN  NaN    NaN       NaN    NaN         2             NaN        RUB   \n",
            "9   NaN  NaN    NaN       NaN    NaN         2             NaN        RUB   \n",
            "\n",
            "   DIVISOR TRADINGSESSION VOLUME  \n",
            "0      NaN              3   None  \n",
            "1      NaN              3   None  \n",
            "2      NaN              3   None  \n",
            "3      NaN              3   None  \n",
            "4      NaN              3   None  \n",
            "5      NaN              3   None  \n",
            "6      NaN              3   None  \n",
            "7      NaN              3   None  \n",
            "8      NaN              3   None  \n",
            "9      NaN              3   None  \n"
          ]
        }
      ],
      "source": [
        "# для индекса IMOEX\n",
        "\n",
        "def get_imoex(start_date, end_date, page_size=100):\n",
        "    \n",
        "    '''Функция зависит от переменных: start_date - дата начала сбора данных, end_date - дата окончания сбора данных,\n",
        "    page_size - количество данных на одной странице, равное 100. Внутри функции создается список imoex_data с хранением информации, счетчик\n",
        "    count отсчитывает данные, находящиеся на одной странице и служит индикатором перехода на другую. '''\n",
        "\n",
        "    imoex_data = []\n",
        "    count = 0\n",
        "    while True:\n",
        "        # используя MOEX ISS получаем url сайта\n",
        "        url = f'https://iss.moex.com/iss/history/engines/stock/markets/index/securities/IMOEX.json?from={start_date}&till={end_date}&start={count}&limit={page_size}'\n",
        "        try:\n",
        "            response = requests.get(url)  # получаем доступ к сайту\n",
        "            data = response.json()  # получаем данные из API и переводим из JSON в python формат\n",
        "            history_data = data['history']['data']\n",
        "            headings = data['history']['columns']\n",
        "            if history_data != None:\n",
        "                imoex_data.extend(history_data)\n",
        "                count += len(\n",
        "                    history_data)  # увеличиваем счётчик, для того чтобы на следующей странице начать с этого номера\n",
        "        except:\n",
        "            return pd.DataFrame(imoex_data, columns=headings)  # если данные закончились возвращаем imoex_data\n",
        "\n",
        "        if len(history_data) < page_size:  # останавливаем бесконечный цикл\n",
        "            break\n",
        "    return pd.DataFrame(imoex_data, columns=headings)\n",
        "\n",
        "\n",
        "page_size = 100\n",
        "IMOEX_df = get_imoex(start_date, end_date, page_size=page_size)\n",
        "print(IMOEX_df.head(10))"
      ]
    },
    {
      "cell_type": "markdown",
      "metadata": {},
      "source": [
        "Эту же функцию реализуем для индекса металлов и добычи - MOEXMM"
      ]
    },
    {
      "cell_type": "code",
      "execution_count": 21,
      "metadata": {},
      "outputs": [
        {
          "name": "stdout",
          "output_type": "stream",
          "text": [
            "  BOARDID   SECID   TRADEDATE                 SHORTNAME  \\\n",
            "0    SNDX  MOEXMM  2004-12-30  Индекс металлов и добычи   \n",
            "1    SNDX  MOEXMM  2005-01-11  Индекс металлов и добычи   \n",
            "2    SNDX  MOEXMM  2005-01-12  Индекс металлов и добычи   \n",
            "3    SNDX  MOEXMM  2005-01-13  Индекс металлов и добычи   \n",
            "4    SNDX  MOEXMM  2005-01-14  Индекс металлов и добычи   \n",
            "5    SNDX  MOEXMM  2005-01-17  Индекс металлов и добычи   \n",
            "6    SNDX  MOEXMM  2005-01-18  Индекс металлов и добычи   \n",
            "7    SNDX  MOEXMM  2005-01-19  Индекс металлов и добычи   \n",
            "8    SNDX  MOEXMM  2005-01-20  Индекс металлов и добычи   \n",
            "9    SNDX  MOEXMM  2005-01-21  Индекс металлов и добычи   \n",
            "\n",
            "                                NAME    CLOSE     OPEN     HIGH      LOW  \\\n",
            "0  Индекс МосБиржи металлов и добычи  1000.00  1000.00  1000.00  1000.00   \n",
            "1  Индекс МосБиржи металлов и добычи   968.46   999.74  1007.33   952.49   \n",
            "2  Индекс МосБиржи металлов и добычи   955.53   968.70   984.80   942.59   \n",
            "3  Индекс МосБиржи металлов и добычи   950.12   955.54   966.93   942.10   \n",
            "4  Индекс МосБиржи металлов и добычи   977.02   950.25  1001.49   945.46   \n",
            "5  Индекс МосБиржи металлов и добычи   976.44   974.40  1020.00   971.20   \n",
            "6  Индекс МосБиржи металлов и добычи   959.88   976.48   995.42   948.41   \n",
            "7  Индекс МосБиржи металлов и добычи   985.34   960.15   985.34   951.60   \n",
            "8  Индекс МосБиржи металлов и добычи   966.06   985.45   986.33   953.92   \n",
            "9  Индекс МосБиржи металлов и добычи   982.50   966.08   988.07   962.95   \n",
            "\n",
            "          VALUE  DURATION  YIELD  DECIMALS  CAPITALIZATION CURRENCYID  \\\n",
            "0  0.000000e+00       NaN    NaN         2             NaN        RUB   \n",
            "1  7.358526e+08       NaN    NaN         2             NaN        RUB   \n",
            "2  6.241479e+08       NaN    NaN         2             NaN        RUB   \n",
            "3  4.003982e+08       NaN    NaN         2             NaN        RUB   \n",
            "4  6.331884e+08       NaN    NaN         2             NaN        RUB   \n",
            "5  9.350907e+08       NaN    NaN         2             NaN        RUB   \n",
            "6  9.741724e+08       NaN    NaN         2             NaN        RUB   \n",
            "7  7.529761e+08       NaN    NaN         2             NaN        RUB   \n",
            "8  9.903016e+08       NaN    NaN         2             NaN        RUB   \n",
            "9  4.715588e+08       NaN    NaN         2             NaN        RUB   \n",
            "\n",
            "   DIVISOR TRADINGSESSION VOLUME  \n",
            "0      NaN              3   None  \n",
            "1      NaN              3   None  \n",
            "2      NaN              3   None  \n",
            "3      NaN              3   None  \n",
            "4      NaN              3   None  \n",
            "5      NaN              3   None  \n",
            "6      NaN              3   None  \n",
            "7      NaN              3   None  \n",
            "8      NaN              3   None  \n",
            "9      NaN              3   None  \n"
          ]
        },
        {
          "data": {
            "text/plain": [
              "(5041, 18)"
            ]
          },
          "execution_count": 21,
          "metadata": {},
          "output_type": "execute_result"
        }
      ],
      "source": [
        "# для индекса MOEXMM\n",
        "\n",
        "def get_moexmm(start_date, end_date, page_size=100):\n",
        "    moexmm_data = []\n",
        "    count = 0\n",
        "    while True:\n",
        "        url = f'https://iss.moex.com/iss/history/engines/stock/markets/index/securities/MOEXMM.json?from={start_date}&till={end_date}&start={count}&limit={page_size}'\n",
        "        try:\n",
        "            response = requests.get(url)\n",
        "            data = response.json()\n",
        "            history_data = data['history']['data']\n",
        "            headings = data['history']['columns']\n",
        "            if history_data != None:\n",
        "                moexmm_data.extend(history_data)\n",
        "                count += len(history_data)\n",
        "        except:\n",
        "            return pd.DataFrame(moexmm_data, columns=headings)\n",
        "\n",
        "        if len(history_data) < page_size:\n",
        "            break\n",
        "    return pd.DataFrame(moexmm_data, columns=headings)\n",
        "\n",
        "\n",
        "page_size = 100\n",
        "MOEXMM_df = get_moexmm(start_date, end_date, page_size=page_size)\n",
        "print(MOEXMM_df.head(10))\n",
        "MOEXMM_df.shape"
      ]
    },
    {
      "cell_type": "markdown",
      "metadata": {},
      "source": [
        "## Парсинг данных с сайта ЦБ"
      ]
    },
    {
      "cell_type": "markdown",
      "metadata": {},
      "source": [
        "Сайт данных ЦБ динамический, поэтому просто использовать html парсинг в случае ежеджевнообновляемых данных не получилось. Однако у ЦБ есть XML: https://cbr.ru/development/SXML/. В случае парсинга валютной пары USDRUB использовался 'Example 2', для золота был использован 'Example 4'"
      ]
    },
    {
      "cell_type": "markdown",
      "metadata": {},
      "source": [
        "### Парсинг данных инфляции из данных ЦБ ###"
      ]
    },
    {
      "cell_type": "code",
      "execution_count": 14,
      "metadata": {},
      "outputs": [],
      "source": [
        "# MOEX и ЦБ обладают разными форматами даты, поэтому установим те же даты, только в формате требуемом сайтом ЦБ\n",
        "\n",
        "# устанавливаем дату, с которой начнем собирать данные и которой закончим для данных MOEX\n",
        "\n",
        "start_date = '01.09.2013'\n",
        "end_date = '01.01.2025'"
      ]
    },
    {
      "cell_type": "code",
      "execution_count": 15,
      "metadata": {},
      "outputs": [
        {
          "name": "stdout",
          "output_type": "stream",
          "text": [
            "<Response [200]>\n"
          ]
        }
      ],
      "source": [
        "# проверим есть ли доступ к сайту\n",
        "url = f'https://cbr.ru/hd_base/infl/?UniDbQuery.Posted=True&UniDbQuery.From={start_date}&UniDbQuery.To={end_date}'\n",
        "response = requests.get(url)\n",
        "print(response)"
      ]
    },
    {
      "cell_type": "code",
      "execution_count": null,
      "metadata": {},
      "outputs": [
        {
          "name": "stdout",
          "output_type": "stream",
          "text": [
            "        Date Key_rate Inflation Inflation_goal\n",
            "0 2025-01-01    21,00      9,92           4,00\n",
            "1 2024-12-01    21,00      9,52           4,00\n",
            "2 2024-11-01    21,00      8,88           4,00\n",
            "3 2024-10-01    21,00      8,54           4,00\n",
            "4 2024-09-01    19,00      8,63           4,00\n",
            "5 2024-08-01    18,00      9,05           4,00\n",
            "6 2024-07-01    18,00      9,13           4,00\n",
            "7 2024-06-01    16,00      8,59           4,00\n",
            "8 2024-05-01    16,00      8,30           4,00\n",
            "9 2024-04-01    16,00      7,84           4,00\n"
          ]
        },
        {
          "data": {
            "text/plain": [
              "(137, 4)"
            ]
          },
          "execution_count": 19,
          "metadata": {},
          "output_type": "execute_result"
        }
      ],
      "source": [
        "def get_inflation(start_date, end_date):\n",
        "    try:\n",
        "        url = f'https://cbr.ru/hd_base/infl/?UniDbQuery.Posted=True&UniDbQuery.From={start_date}&UniDbQuery.To={end_date}'\n",
        "        response = requests.get(url)\n",
        "        tree = BeautifulSoup(response.text, 'html.parser')\n",
        "        table = tree.find('table', {\n",
        "            'class': 'data'})  # в коде элемента находим, что таблица хранится в теге table, классе - data\n",
        "\n",
        "        data = []\n",
        "        for row in table.find_all('tr')[1:]:\n",
        "            cells = row.find_all('td')\n",
        "            date_str = cells[0].text.strip()\n",
        "            date = pd.to_datetime(date_str, format='%m.%Y')\n",
        "            Key_rate = cells[1].text.strip()\n",
        "            Inflation = cells[2].text.strip()\n",
        "            Inflation_goal = cells[3].text.strip()\n",
        "            data.append([date, Key_rate, Inflation, Inflation_goal])\n",
        "        df = pd.DataFrame(data, columns=['Date', 'Key_rate', 'Inflation', 'Inflation_goal'])\n",
        "        return df\n",
        "\n",
        "    except Exception as e:\n",
        "        return f\"Ошибка: {e}\"\n",
        "\n",
        "\n",
        "INFLATION_df = get_inflation(start_date, end_date)\n",
        "print(INFLATION_df.head(10).to_string())\n",
        "INFLATION_df.shape\n"
      ]
    },
    {
      "cell_type": "markdown",
      "metadata": {},
      "source": [
        "### Парсинг валютного курса USD RUB из данных ЦБ"
      ]
    },
    {
      "cell_type": "code",
      "execution_count": 8,
      "metadata": {},
      "outputs": [
        {
          "name": "stdout",
          "output_type": "stream",
          "text": [
            "<Response [200]>\n"
          ]
        }
      ],
      "source": [
        "# проверили есть ли доступ к сайту\n",
        "url = f'http://www.cbr.ru/scripts/XML_dynamic.asp?date_req1={start_date}&date_req2={end_date}&VAL_NM_RQ=R01235'\n",
        "response = requests.get(url)\n",
        "print(response)"
      ]
    },
    {
      "cell_type": "code",
      "execution_count": null,
      "metadata": {},
      "outputs": [
        {
          "name": "stdout",
          "output_type": "stream",
          "text": [
            "         Date  USD_RUB\n",
            "0  03.09.2013  33.2522\n",
            "1  04.09.2013  33.3693\n",
            "2  05.09.2013  33.4656\n",
            "3  06.09.2013  33.3901\n",
            "4  07.09.2013  33.4338\n",
            "5  10.09.2013  33.3243\n",
            "6  11.09.2013  33.0600\n",
            "7  12.09.2013  32.9629\n",
            "8  13.09.2013  32.6731\n",
            "9  14.09.2013  32.7406\n",
            "(2800, 2)\n"
          ]
        }
      ],
      "source": [
        "def get_USDRUB(start_date, end_date):\n",
        "    try:\n",
        "        url = f'http://www.cbr.ru/scripts/XML_dynamic.asp?date_req1={start_date}&date_req2={end_date}&VAL_NM_RQ=R01235'\n",
        "        response = requests.get(url)\n",
        "        soup = BeautifulSoup(response.text, 'xml')\n",
        "        records = soup.find_all('Record')\n",
        "\n",
        "        data = []\n",
        "        for record in records:\n",
        "            i_date = record.get('Date')\n",
        "            VunitRate = record.find('Value').text.replace(',', '.')\n",
        "\n",
        "            data.append([i_date, float(VunitRate)])\n",
        "\n",
        "        df = pd.DataFrame(data, columns=['Date', 'USD_RUB'])\n",
        "        return df\n",
        "\n",
        "    except Exception as e:\n",
        "        return f'Ошибка: \\n{e}'\n",
        "\n",
        "\n",
        "start_date = '01/09/2013'  # здесь потребовался другой формат даты\n",
        "end_date = '01/01/2025'\n",
        "USDRUB_df = get_USDRUB(start_date, end_date)\n",
        "\n",
        "print(USDRUB_df.head(10).to_string())\n",
        "print(USDRUB_df.shape)"
      ]
    },
    {
      "cell_type": "markdown",
      "metadata": {},
      "source": [
        "### Парсинг цен на аффинированные драгоценные металлы из данных Банка России ###"
      ]
    },
    {
      "cell_type": "code",
      "execution_count": 10,
      "metadata": {},
      "outputs": [
        {
          "name": "stdout",
          "output_type": "stream",
          "text": [
            "<Response [200]>\n"
          ]
        }
      ],
      "source": [
        "# проверили есть ли доступ к сайту\n",
        "url = f'http://www.cbr.ru/scripts/xml_metall.asp?date_req1={start_date}1&date_req2={end_date}'\n",
        "response = requests.get(url)\n",
        "print(response)"
      ]
    },
    {
      "cell_type": "code",
      "execution_count": null,
      "metadata": {},
      "outputs": [
        {
          "name": "stdout",
          "output_type": "stream",
          "text": [
            "         Date Price_GOLD\n",
            "0  03.09.2013    1487,36\n",
            "1  04.09.2013     1492,6\n",
            "2  05.09.2013    1510,36\n",
            "3  06.09.2013    1494,07\n",
            "4  07.09.2013    1470,76\n",
            "5  10.09.2013    1484,96\n",
            "6  11.09.2013    1459,37\n",
            "7  12.09.2013    1446,87\n",
            "8  13.09.2013    1407,88\n",
            "9  14.09.2013    1377,11\n"
          ]
        },
        {
          "data": {
            "text/plain": [
              "(2800, 2)"
            ]
          },
          "execution_count": 11,
          "metadata": {},
          "output_type": "execute_result"
        }
      ],
      "source": [
        "def get_gold(url):\n",
        "    try:\n",
        "        url = f'http://www.cbr.ru/scripts/xml_metall.asp?date_req1={start_date}1&date_req2={end_date}'\n",
        "        response = requests.get(url)\n",
        "        tree = BeautifulSoup(response.text, 'html.parser')\n",
        "\n",
        "        data = []\n",
        "        for i in tree.find('metall').find_all('record', code='1'):  # ищем элемент <metall>, а затем все элементы record\n",
        "            i_date = i.get('date')\n",
        "            buy_price = i.find('buy').text\n",
        "\n",
        "            data.append([i_date, buy_price])\n",
        "\n",
        "        df = pd.DataFrame(data, columns=['Date', 'Price_GOLD'])\n",
        "        return df\n",
        "\n",
        "    except Exception as e:\n",
        "        return f'Ошибка \\n{e}'\n",
        "\n",
        "\n",
        "GOLD_df = get_gold(url)\n",
        "print(GOLD_df.head(10).to_string())\n",
        "GOLD_df.shape"
      ]
    },
    {
      "cell_type": "markdown",
      "metadata": {},
      "source": [
        "### Переводим датафреймы в формат CSV"
      ]
    },
    {
      "cell_type": "code",
      "execution_count": null,
      "metadata": {},
      "outputs": [],
      "source": [
        "GOLD_df.to_csv('GOLD_df', index=False)\n",
        "USDRUB_df.to_csv('USDRUB_df', index=False)\n",
        "INFLATION_df.to_csv('INFLATION_df', index=False)\n",
        "IMOEX_df.to_csv('IMOEX_df', index=False)\n",
        "MOEXMM_df.to_csv('MOEXMM_df', index=False)"
      ]
    }
  ],
  "metadata": {
    "colab": {
      "provenance": []
    },
    "kernelspec": {
      "display_name": "Python 3",
      "language": "python",
      "name": "python3"
    },
    "language_info": {
      "codemirror_mode": {
        "name": "ipython",
        "version": 3
      },
      "file_extension": ".py",
      "mimetype": "text/x-python",
      "name": "python",
      "nbconvert_exporter": "python",
      "pygments_lexer": "ipython3",
      "version": "3.12.9"
    }
  },
  "nbformat": 4,
  "nbformat_minor": 0
}
