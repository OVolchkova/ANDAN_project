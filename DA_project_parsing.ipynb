{
  "cells": [
    {
      "cell_type": "markdown",
      "metadata": {},
      "source": [
        "# Шаг 1. Парсинг данных"
      ]
    },
    {
      "cell_type": "markdown",
      "metadata": {},
      "source": [
        "### Парсинг данных индексов IMOEX, MOEXMM, MOEXOG ###"
      ]
    },
    {
      "cell_type": "markdown",
      "metadata": {
        "id": "_-RKdv_hOz2w"
      },
      "source": [
        "Код основан на MOEX API с использованием https://iss.moex.com/iss/reference/"
      ]
    },
    {
      "cell_type": "code",
      "execution_count": 42,
      "metadata": {},
      "outputs": [],
      "source": [
        "# импорт библиотек для парсинга\n",
        "import requests\n",
        "import pandas as pd\n",
        "from bs4 import BeautifulSoup"
      ]
    },
    {
      "cell_type": "code",
      "execution_count": null,
      "metadata": {},
      "outputs": [
        {
          "name": "stdout",
          "output_type": "stream",
          "text": [
            "  BOARDID  SECID   TRADEDATE        SHORTNAME             NAME    CLOSE     OPEN     HIGH      LOW         VALUE  DURATION  YIELD  DECIMALS  CAPITALIZATION CURRENCYID  DIVISOR TRADINGSESSION VOLUME\n",
            "0    SNDX  IMOEX  2012-12-03  Индекс МосБиржи  Индекс МосБиржи  1421.97  1405.97  1422.20  1403.70  2.559112e+10       NaN    NaN         2    3.927751e+12        RUB      NaN              3   None\n",
            "1    SNDX  IMOEX  2012-12-04  Индекс МосБиржи  Индекс МосБиржи  1411.83  1421.94  1421.94  1407.84  2.296478e+10       NaN    NaN         2    3.899745e+12        RUB      NaN              3   None\n",
            "2    SNDX  IMOEX  2012-12-05  Индекс МосБиржи  Индекс МосБиржи  1435.97  1411.84  1441.45  1411.83  3.623375e+10       NaN    NaN         2    3.966432e+12        RUB      NaN              3   None\n",
            "3    SNDX  IMOEX  2012-12-06  Индекс МосБиржи  Индекс МосБиржи  1438.54  1435.96  1449.44  1434.35  2.892222e+10       NaN    NaN         2    3.973540e+12        RUB      NaN              3   None\n",
            "4    SNDX  IMOEX  2012-12-07  Индекс МосБиржи  Индекс МосБиржи  1441.47  1438.54  1443.97  1427.85  2.429779e+10       NaN    NaN         2    3.981637e+12        RUB      NaN              3   None\n"
          ]
        }
      ],
      "source": [
        "#для индекса IMOEX\n",
        "\n",
        "def get_imoex(start_date, end_date, page_size = 100):\n",
        "\n",
        "    '''Функция зависит от переменных: start_date - дата начала сбора данных, end_date - дата окончания сбора данных,\n",
        "    page_size - количество данных на одной странице, равное 100. Внутри функции создается список imoex_data с хранением информации, счетчик\n",
        "    count отсчитывает данные, находящиеся на одной странице и служит индикатором перехода на другую. '''\n",
        "\n",
        "    imoex_data = []\n",
        "    count = 0\n",
        "    while True:\n",
        "        # используя MOEX ISS получаем url сайта\n",
        "        url = f'https://iss.moex.com/iss/history/engines/stock/markets/index/securities/IMOEX.json?from={start_date}&till={end_date}&start={count}&limit={page_size}'\n",
        "        try:\n",
        "            response = requests.get(url, timeout=15) # получаем доступ к сайту и устанавливаем максимальное время ответа\n",
        "            data = response.json() # получаем данные из API и переводим из JSON в python формат\n",
        "            history_data = data['history']['data'] # !!!!!!!!!!!\n",
        "            headings = data['history']['columns']\n",
        "            if history_data != None: \n",
        "                imoex_data.extend(history_data)\n",
        "                count += len(history_data) # увеличиваем счётчик, для того чтобы на следующей странице начать с этого номера\n",
        "        except:\n",
        "            return pd.DataFrame(imoex_data, columns=headings) # если данные закончились возвращаем imoex_data\n",
        "            \n",
        "        if len(history_data) < page_size: # останавливаем бесконечный цикл\n",
        "            break\n",
        "    return pd.DataFrame(imoex_data, columns=headings)\n",
        "\n",
        "# Устанавливаем даты старта и окончания сбора, так, чтобы они соответствовали дата-фрейму с сентимент анализом.\n",
        "# При этом MOEX не публиковало рыночную капитализацию до \n",
        "start_date = '2012-12-01'\n",
        "end_date = '2024-01-31'\n",
        "page_size = 100\n",
        "df = get_imoex(start_date, end_date, page_size=page_size)\n",
        "print(df.head().to_string())"
      ]
    },
    {
      "cell_type": "markdown",
      "metadata": {},
      "source": [
        "Нам интересны столбцы \"TRADEDATE\", \"CLOSE\", \"OPEN\", \"HIGH\", \"LOW\", \"VALUE\", \"CAPITALIZATION\". Также установим название индекса для каждого из них в названии столбцов, так как далее мы будем их гоизонтально объединять по \"TRADEDATE\" и анализировать переменные по каждому индексу."
      ]
    },
    {
      "cell_type": "code",
      "execution_count": null,
      "metadata": {},
      "outputs": [
        {
          "name": "stdout",
          "output_type": "stream",
          "text": [
            "    TRADEDATE  CLOSE_IMOEX  OPEN_IMOEX  HIGH_IMOEX  LOW_IMOEX   VALUE_IMOEX  CAPITALIZATION_IMOEX\n",
            "0  2012-12-03      3177.05     3133.27     3178.49    3133.27  1.028820e+10          1.248851e+12\n",
            "1  2012-12-04      3156.63     3177.05     3177.05    3145.32  9.829918e+09          1.240824e+12\n",
            "2  2012-12-05      3206.90     3156.83     3223.56    3156.83  1.351435e+10          1.260583e+12\n",
            "3  2012-12-06      3206.27     3206.90     3231.97    3199.36  1.159931e+10          1.260334e+12\n",
            "4  2012-12-07      3216.69     3206.32     3221.52    3183.12  8.969189e+09          1.264428e+12\n"
          ]
        },
        {
          "data": {
            "text/plain": [
              "(2792, 7)"
            ]
          },
          "execution_count": 30,
          "metadata": {},
          "output_type": "execute_result"
        }
      ],
      "source": [
        "Subset = ['TRADEDATE','CLOSE','OPEN','HIGH','LOW','VALUE','CAPITALIZATION']\n",
        "IMOEX_df = df[Subset]\n",
        "Headings_IMOEX = {\n",
        "    'TRADEDATE': 'TRADEDATE',\n",
        "    'CLOSE': 'CLOSE_IMOEX',\n",
        "    'OPEN': 'OPEN_IMOEX',\n",
        "    'HIGH': 'HIGH_IMOEX',\n",
        "    'LOW': 'LOW_IMOEX',\n",
        "    'VALUE': 'VALUE_IMOEX',\n",
        "    'CAPITALIZATION': 'CAPITALIZATION_IMOEX'\n",
        "}\n",
        "IMOEX_df = IMOEX_df.rename(columns = Headings_IMOEX)\n",
        "print(IMOEX_df.head().to_string())\n",
        "IMOEX_df.shape"
      ]
    },
    {
      "cell_type": "markdown",
      "metadata": {},
      "source": [
        "Эту же функцию реализуем для индекса металлов и добычи - MOEXMM; для индекса нефти и газа - MOEXOG; для индекса финансового сектора - IMOEXFN"
      ]
    },
    {
      "cell_type": "code",
      "execution_count": null,
      "metadata": {},
      "outputs": [],
      "source": [
        "# для индекса MOEXMM\n",
        "\n",
        "def get_moexmm(start_date, end_date, page_size = 100):\n",
        "    moexmm_data = []\n",
        "    count = 0\n",
        "    while True:\n",
        "        url = f'https://iss.moex.com/iss/history/engines/stock/markets/index/securities/MOEXMM.json?from={start_date}&till={end_date}&start={count}&limit={page_size}'\n",
        "        try:\n",
        "            response = requests.get(url, timeout=15)\n",
        "            data = response.json()\n",
        "            history_data = data['history']['data']\n",
        "            headings = data['history']['columns']\n",
        "            if history_data != None: \n",
        "                moexmm_data.extend(history_data)\n",
        "                count += len(history_data)\n",
        "        except:\n",
        "            return pd.DataFrame(moexmm_data, columns=headings)\n",
        "            \n",
        "        if len(history_data) < page_size:\n",
        "            break\n",
        "    return pd.DataFrame(moexmm_data, columns=headings)\n",
        "\n",
        "start_date = '2012-12-01'\n",
        "end_date = '2024-01-31'\n",
        "page_size = 100\n",
        "df = get_moexmm(start_date, end_date, page_size=page_size)"
      ]
    },
    {
      "cell_type": "code",
      "execution_count": 33,
      "metadata": {},
      "outputs": [
        {
          "name": "stdout",
          "output_type": "stream",
          "text": [
            "    TRADEDATE  CLOSE_MOEXMM  OPEN_MOEXMM  HIGH_MOEXMM  LOW_MOEXMM  VALUE_MOEXMM  CAPITALIZATION_MOEXMM\n",
            "0  2012-12-03       2760.50      2767.81      2767.90     2748.47  2.134668e+09           9.705972e+10\n",
            "1  2012-12-04       2745.18      2760.35      2766.92     2735.92  3.232587e+09           9.652113e+10\n",
            "2  2012-12-05       2809.80      2745.60      2812.41     2745.60  7.837108e+09           9.879316e+10\n",
            "3  2012-12-06       2813.20      2809.80      2841.52     2806.10  6.283605e+09           9.891274e+10\n",
            "4  2012-12-07       2813.67      2813.20      2820.26     2790.27  2.802574e+09           9.892925e+10\n"
          ]
        },
        {
          "data": {
            "text/plain": [
              "(2792, 7)"
            ]
          },
          "execution_count": 33,
          "metadata": {},
          "output_type": "execute_result"
        }
      ],
      "source": [
        "Subset = ['TRADEDATE','CLOSE','OPEN','HIGH','LOW','VALUE','CAPITALIZATION']\n",
        "MOEXMM_df = df[Subset]\n",
        "Headings_MOEXMM = {\n",
        "    'TRADEDATE': 'TRADEDATE',\n",
        "    'CLOSE': 'CLOSE_MOEXMM',\n",
        "    'OPEN': 'OPEN_MOEXMM',\n",
        "    'HIGH': 'HIGH_MOEXMM',\n",
        "    'LOW': 'LOW_MOEXMM',\n",
        "    'VALUE': 'VALUE_MOEXMM',\n",
        "    'CAPITALIZATION': 'CAPITALIZATION_MOEXMM'\n",
        "}\n",
        "MOEXMM_df = MOEXMM_df.rename(columns = Headings_MOEXMM)\n",
        "print(MOEXMM_df.head().to_string())\n",
        "MOEXMM_df.shape"
      ]
    },
    {
      "cell_type": "code",
      "execution_count": null,
      "metadata": {},
      "outputs": [],
      "source": [
        "# для индекса MOEXOG\n",
        "\n",
        "def get_moexog(start_date, end_date, page_size = 100):\n",
        "    moexog_data = []\n",
        "    count = 0\n",
        "    while True:\n",
        "        url = f'https://iss.moex.com/iss/history/engines/stock/markets/index/securities/MOEXOG.json?from={start_date}&till={end_date}&start={count}&limit={page_size}'\n",
        "        try:\n",
        "            response = requests.get(url, timeout=15)\n",
        "            data = response.json()\n",
        "            history_data = data['history']['data']\n",
        "            headings = data['history']['columns']\n",
        "            if history_data != None: \n",
        "                moexog_data.extend(history_data)\n",
        "                count += len(history_data)\n",
        "        except:\n",
        "            return pd.DataFrame(moexog_data, columns=headings)\n",
        "            \n",
        "        if len(history_data) < page_size:\n",
        "            break\n",
        "    return pd.DataFrame(moexog_data, columns=headings)\n",
        "\n",
        "start_date = '2012-12-01'\n",
        "end_date = '2024-01-31'\n",
        "page_size = 100\n",
        "df = get_moexog(start_date, end_date, page_size=page_size)"
      ]
    },
    {
      "cell_type": "code",
      "execution_count": 35,
      "metadata": {},
      "outputs": [
        {
          "name": "stdout",
          "output_type": "stream",
          "text": [
            "    TRADEDATE  CLOSE_MOEXOG  OPEN_MOEXOG  HIGH_MOEXOG  LOW_MOEXOG  VALUE_MOEXOG  CAPITALIZATION_MOEXOG\n",
            "0  2012-12-03       3177.05      3133.27      3178.49     3133.27  1.028820e+10           1.248851e+12\n",
            "1  2012-12-04       3156.63      3177.05      3177.05     3145.32  9.829918e+09           1.240824e+12\n",
            "2  2012-12-05       3206.90      3156.83      3223.56     3156.83  1.351435e+10           1.260583e+12\n",
            "3  2012-12-06       3206.27      3206.90      3231.97     3199.36  1.159931e+10           1.260334e+12\n",
            "4  2012-12-07       3216.69      3206.32      3221.52     3183.12  8.969189e+09           1.264428e+12\n"
          ]
        },
        {
          "data": {
            "text/plain": [
              "(2792, 7)"
            ]
          },
          "execution_count": 35,
          "metadata": {},
          "output_type": "execute_result"
        }
      ],
      "source": [
        "Subset = ['TRADEDATE','CLOSE','OPEN','HIGH','LOW','VALUE','CAPITALIZATION']\n",
        "MOEXOG_df = df[Subset]\n",
        "Headings_MOEXOG = {\n",
        "    'TRADEDATE': 'TRADEDATE',\n",
        "    'CLOSE': 'CLOSE_MOEXOG',\n",
        "    'OPEN': 'OPEN_MOEXOG',\n",
        "    'HIGH': 'HIGH_MOEXOG',\n",
        "    'LOW': 'LOW_MOEXOG',\n",
        "    'VALUE': 'VALUE_MOEXOG',\n",
        "    'CAPITALIZATION': 'CAPITALIZATION_MOEXOG'\n",
        "}\n",
        "MOEXOG_df = MOEXOG_df.rename(columns = Headings_MOEXOG)\n",
        "print(MOEXOG_df.head().to_string())\n",
        "MOEXOG_df.shape"
      ]
    },
    {
      "cell_type": "code",
      "execution_count": 55,
      "metadata": {},
      "outputs": [],
      "source": [
        "# для индекса MOEXFN\n",
        "\n",
        "def get_moexfn(start_date, end_date, page_size = 100):\n",
        "    moexfn_data = []\n",
        "    count = 0\n",
        "    while True:\n",
        "        url = f'https://iss.moex.com/iss/history/engines/stock/markets/index/securities/MOEXFN.json?from={start_date}&till={end_date}&start={count}&limit={page_size}'\n",
        "        try:\n",
        "            response = requests.get(url, timeout=15)\n",
        "            data = response.json()\n",
        "            history_data = data['history']['data']\n",
        "            headings = data['history']['columns']\n",
        "            if history_data != None: \n",
        "                moexfn_data.extend(history_data)\n",
        "                count += len(history_data)\n",
        "        except:\n",
        "            return pd.DataFrame(moexfn_data, columns=headings)\n",
        "            \n",
        "        if len(history_data) < page_size:\n",
        "            break\n",
        "    return pd.DataFrame(moexfn_data, columns=headings)\n",
        "\n",
        "start_date = '2012-12-01'\n",
        "end_date = '2024-01-31'\n",
        "page_size = 100\n",
        "df = get_moexfn(start_date, end_date, page_size=page_size)"
      ]
    },
    {
      "cell_type": "code",
      "execution_count": 57,
      "metadata": {},
      "outputs": [
        {
          "name": "stdout",
          "output_type": "stream",
          "text": [
            "    TRADEDATE  CLOSE_MOEX_FN  OPEN_MOEX_FN  HIGH_MOEX_FN  LOW_MOEX_FN  VALUE_MOEX_FN  CAPITALIZATION_MOEXFN\n",
            "0  2012-12-03        4456.01       4427.65       4461.15      4420.24   1.052653e+10           3.877619e+10\n",
            "1  2012-12-04        4408.71       4455.42       4455.42      4400.34   7.547101e+09           3.836455e+10\n",
            "2  2012-12-05        4490.58       4408.71       4545.08      4408.71   1.143838e+10           3.907701e+10\n",
            "3  2012-12-06        4486.50       4490.34       4541.58      4469.12   8.209059e+09           3.904148e+10\n",
            "4  2012-12-07        4466.39       4486.74       4492.33      4440.74   9.837067e+09           3.886651e+10\n"
          ]
        },
        {
          "data": {
            "text/plain": [
              "(2792, 7)"
            ]
          },
          "execution_count": 57,
          "metadata": {},
          "output_type": "execute_result"
        }
      ],
      "source": [
        "Subset = ['TRADEDATE','CLOSE','OPEN','HIGH','LOW','VALUE','CAPITALIZATION']\n",
        "MOEXFN_df = df[Subset]\n",
        "Headings_MOEXFN = {\n",
        "    'TRADEDATE': 'TRADEDATE',\n",
        "    'CLOSE': 'CLOSE_MOEX_FN',\n",
        "    'OPEN': 'OPEN_MOEX_FN',\n",
        "    'HIGH': 'HIGH_MOEX_FN',\n",
        "    'LOW': 'LOW_MOEX_FN',\n",
        "    'VALUE': 'VALUE_MOEX_FN',\n",
        "    'CAPITALIZATION': 'CAPITALIZATION_MOEXFN'\n",
        "}\n",
        "MOEXFN_df = MOEXFN_df.rename(columns = Headings_MOEXFN)\n",
        "print(MOEXFN_df.head().to_string())\n",
        "MOEXFN_df.shape"
      ]
    },
    {
      "cell_type": "markdown",
      "metadata": {},
      "source": [
        "### Объединение полученных датафреймов ###"
      ]
    },
    {
      "cell_type": "code",
      "execution_count": 58,
      "metadata": {},
      "outputs": [
        {
          "name": "stdout",
          "output_type": "stream",
          "text": [
            "    TRADEDATE  CLOSE_IMOEX  OPEN_IMOEX  HIGH_IMOEX  LOW_IMOEX   VALUE_IMOEX  CAPITALIZATION_IMOEX  CLOSE_MOEXMM  OPEN_MOEXMM  HIGH_MOEXMM  LOW_MOEXMM  VALUE_MOEXMM  CAPITALIZATION_MOEXMM  CLOSE_MOEXOG  OPEN_MOEXOG  HIGH_MOEXOG  LOW_MOEXOG  VALUE_MOEXOG  CAPITALIZATION_MOEXOG  CLOSE_MOEX_FN  OPEN_MOEX_FN  HIGH_MOEX_FN  LOW_MOEX_FN  VALUE_MOEX_FN  CAPITALIZATION_MOEXFN\n",
            "0  2012-12-03      3177.05     3133.27     3178.49    3133.27  1.028820e+10          1.248851e+12       2760.50      2767.81      2767.90     2748.47  2.134668e+09           9.705972e+10       3177.05      3133.27      3178.49     3133.27  1.028820e+10           1.248851e+12        4456.01       4427.65       4461.15      4420.24   1.052653e+10           3.877619e+10\n",
            "1  2012-12-04      3156.63     3177.05     3177.05    3145.32  9.829918e+09          1.240824e+12       2745.18      2760.35      2766.92     2735.92  3.232587e+09           9.652113e+10       3156.63      3177.05      3177.05     3145.32  9.829918e+09           1.240824e+12        4408.71       4455.42       4455.42      4400.34   7.547101e+09           3.836455e+10\n",
            "2  2012-12-05      3206.90     3156.83     3223.56    3156.83  1.351435e+10          1.260583e+12       2809.80      2745.60      2812.41     2745.60  7.837108e+09           9.879316e+10       3206.90      3156.83      3223.56     3156.83  1.351435e+10           1.260583e+12        4490.58       4408.71       4545.08      4408.71   1.143838e+10           3.907701e+10\n",
            "3  2012-12-06      3206.27     3206.90     3231.97    3199.36  1.159931e+10          1.260334e+12       2813.20      2809.80      2841.52     2806.10  6.283605e+09           9.891274e+10       3206.27      3206.90      3231.97     3199.36  1.159931e+10           1.260334e+12        4486.50       4490.34       4541.58      4469.12   8.209059e+09           3.904148e+10\n",
            "4  2012-12-07      3216.69     3206.32     3221.52    3183.12  8.969189e+09          1.264428e+12       2813.67      2813.20      2820.26     2790.27  2.802574e+09           9.892925e+10       3216.69      3206.32      3221.52     3183.12  8.969189e+09           1.264428e+12        4466.39       4486.74       4492.33      4440.74   9.837067e+09           3.886651e+10\n"
          ]
        }
      ],
      "source": [
        "result_df = pd.merge(IMOEX_df, MOEXMM_df, on='TRADEDATE', how='outer')\n",
        "result_df = pd.merge(result_df, MOEXOG_df, on='TRADEDATE', how='outer')\n",
        "result_df = pd.merge(result_df, MOEXFN_df, on='TRADEDATE', how='outer')\n",
        "print(result_df.head().to_string())"
      ]
    },
    {
      "cell_type": "markdown",
      "metadata": {},
      "source": [
        "### Парсинг цен на аффинированные драгоценные металлы из данных Банка России ###"
      ]
    },
    {
      "cell_type": "code",
      "execution_count": null,
      "metadata": {},
      "outputs": [
        {
          "name": "stdout",
          "output_type": "stream",
          "text": [
            "<Response [200]>\n"
          ]
        }
      ],
      "source": [
        "# Для ЦБ мы уже не будем использовать API и JSON, поэтому нам надо воспользоваться библиотекой BeautifulSoup\n",
        "\n",
        "start_date = '12.01.2012'\n",
        "end_date = '31.01.2024'\n",
        "# получаем доступ к сайту\n",
        "url = f'https://cbr.ru/hd_base/metall/metall_base_new/?UniDbQuery.Posted=True&UniDbQuery.From=01.02.2012&UniDbQuery.To=27.02.2025&UniDbQuery.Gold=true&UniDbQuery.so=1'\n",
        "response = requests.get(url) # проверяем есть ли у нас доступ\n",
        "print(response)"
      ]
    },
    {
      "cell_type": "code",
      "execution_count": 107,
      "metadata": {},
      "outputs": [
        {
          "name": "stdout",
          "output_type": "stream",
          "text": [
            "           Date     Price\n",
            "0    2025-02-27  81035300\n",
            "1    2025-02-26  81661500\n",
            "2    2025-02-25  83209600\n",
            "3    2025-02-22  83113400\n",
            "4    2025-02-21  83573100\n",
            "...         ...       ...\n",
            "3225 2012-02-07  16689100\n",
            "3226 2012-02-04  17105700\n",
            "3227 2012-02-03  16959200\n",
            "3228 2012-02-02  17049300\n",
            "3229 2012-02-01  16938300\n",
            "\n",
            "[3230 rows x 2 columns]\n"
          ]
        }
      ],
      "source": [
        "# получаем HTML код страницы\n",
        "tree = BeautifulSoup(response.text, 'html.parser')\n",
        "table = tree.find('table', {'class': 'data'}) # если поисследовать код таблицы на сайте, то можно найти что она расположена в теге 'table', классе 'data'\n",
        "\n",
        "data = []\n",
        "for row in table.find_all('tr')[1:]: # не считываем заголовки,  'tr' в таблице обозначены строки\n",
        "    cells = row.find_all('td') # td - столбцы\n",
        "    date = pd.to_datetime(cells[0].text, dayfirst=True)\n",
        "    price = cells[1].text.strip()\n",
        "    price = price.replace(' ', '')\n",
        "    price = price.replace(',', '') #  в данных ЦБ РФ были даны данные в формате '# ###,###', что помешало бы потом переводить их в числа, поэтому пришлось убирать знаки\n",
        "    price = pd.to_numeric(price)\n",
        "    data.append([date, price])\n",
        "\n",
        "df = pd.DataFrame(data, columns=['Date', 'Price'])\n",
        "print(df)"
      ]
    },
    {
      "cell_type": "code",
      "execution_count": null,
      "metadata": {},
      "outputs": [],
      "source": []
    }
  ],
  "metadata": {
    "colab": {
      "provenance": []
    },
    "kernelspec": {
      "display_name": "Python 3",
      "language": "python",
      "name": "python3"
    },
    "language_info": {
      "codemirror_mode": {
        "name": "ipython",
        "version": 3
      },
      "file_extension": ".py",
      "mimetype": "text/x-python",
      "name": "python",
      "nbconvert_exporter": "python",
      "pygments_lexer": "ipython3",
      "version": "3.12.9"
    }
  },
  "nbformat": 4,
  "nbformat_minor": 0
}
